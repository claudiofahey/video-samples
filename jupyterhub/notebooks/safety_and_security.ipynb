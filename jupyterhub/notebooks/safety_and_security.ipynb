{
 "cells": [
  {
   "cell_type": "markdown",
   "metadata": {},
   "source": [
    "---\n",
    "# Demo - Safety and Security (Video Surveillance)\n",
    "\n",
    "Live video feeds from 4 cameras are continuously ingested into SDP.\n",
    "\n",
    "### Benefits of using SDP vs. a NAS-only solution\n",
    "\n",
    "1. SDP provides low end-to-end latency (15-20 milliseconds) between a camera writing a frame and a video player displaying it.\n",
    "   This is less than 1 frame at 60 frames per second.\n",
    "   This low latency is impossible to achieve with file-only workflows due to limitations of locking, polling, NFS, and SMB.\n",
    "2. There are strong guarantees of durability. Before the video player can display a frame, SDP writes it to SSDs on multiple\n",
    "   tier 1 storage servers. In the event of system failure, data from tier 1 is used for recovery.\n",
    "3. Data is *asynchronously* written to tier 2 (ECS or isilon) in large blocks, which means that cost-effective magnetic media can be used.\n",
    "4. Older frames of video streams can be automatically truncated based on time or size limits.\n",
    "5. The same API can be used to read live video or historical data from years ago.\n",
    "   SDP will serve data cached in memory if available or it will read from tier 2.\n",
    "\n",
    "---"
   ]
  },
  {
   "cell_type": "markdown",
   "metadata": {},
   "source": [
    "### How to use this notebook\n",
    "1. [Install dependencies](install_dependencies.ipynb).\n",
    "2. [Begin ingesting data](ingest_kitti.ipynb).\n",
    "3. [Run continuious index builder job](index_builder.ipynb).\n",
    "2. Click *Kernel* -> *Restart Kernel and Run All Cells*."
   ]
  },
  {
   "cell_type": "markdown",
   "metadata": {},
   "source": [
    "### Initialize"
   ]
  },
  {
   "cell_type": "code",
   "execution_count": null,
   "metadata": {
    "jupyter": {
     "source_hidden": true
    }
   },
   "outputs": [],
   "source": [
    "%load_ext autoreload\n",
    "%autoreload 2\n",
    "\n",
    "import grpc\n",
    "import imp\n",
    "import pravega.grpc_gateway as pravega\n",
    "import pravega.video as video\n",
    "from pravega.video import UnindexedStream, OutputStream, IndexedStream, VideoPlayer\n",
    "from matplotlib import pyplot as plt\n",
    "import IPython\n",
    "import os\n",
    "import ipywidgets\n",
    "from ipywidgets import Layout\n",
    "import numpy as np\n",
    "import pandas as pd\n",
    "import time\n",
    "from ipywidgets import interact, interactive, fixed, interact_manual\n",
    "from IPython.display import display\n",
    "import ipywidgets as widgets\n",
    "\n",
    "imp.reload(video);\n",
    "\n",
    "### Define Pravega stream parameters\n",
    "\n",
    "#gateway = os.environ['PRAVEGA_GRPC_GATEWAY_ADDRESS']\n",
    "#gateway = '10.246.27.131:54672'\n",
    "gateway = 'pravega-grpc-gateway.examples.frightful-four.eaglemonk.intranet.nautilus-platform-dev.com:80'\n",
    "scope = 'examples'\n",
    "#stream = 'object-detector-input-video'\n",
    "#stream = 'object-detector-output-video'\n",
    "#stream = 'generated-video'\n",
    "#stream = 'object-detector-input-grid-video'\n",
    "#stream = 'virat'\n",
    "\n",
    "### Initialize connection to Pravega GRPC Gateway\n",
    "\n",
    "pravega_channel = grpc.insecure_channel(gateway, options=[\n",
    "        ('grpc.max_receive_message_length', 9*1024*1024),\n",
    "    ])\n",
    "pravega_client = pravega.grpc.PravegaGatewayStub(pravega_channel)"
   ]
  },
  {
   "cell_type": "markdown",
   "metadata": {},
   "source": [
    "---\n",
    "### Video Player"
   ]
  },
  {
   "cell_type": "code",
   "execution_count": null,
   "metadata": {},
   "outputs": [],
   "source": [
    "player = VideoPlayer(pravega_client=pravega_client, scope=scope)\n",
    "player.interact()"
   ]
  }
 ],
 "metadata": {
  "kernelspec": {
   "display_name": "Python 3",
   "language": "python",
   "name": "python3"
  },
  "language_info": {
   "codemirror_mode": {
    "name": "ipython",
    "version": 3
   },
   "file_extension": ".py",
   "mimetype": "text/x-python",
   "name": "python",
   "nbconvert_exporter": "python",
   "pygments_lexer": "ipython3",
   "version": "3.7.6"
  }
 },
 "nbformat": 4,
 "nbformat_minor": 4
}
