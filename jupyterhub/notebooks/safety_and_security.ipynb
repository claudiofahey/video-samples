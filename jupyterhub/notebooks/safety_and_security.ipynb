{
 "cells": [
  {
   "cell_type": "markdown",
   "metadata": {},
   "source": [
    "---\n",
    "# Demo - Safety and Security (Video Surveillance)\n",
    "\n",
    "![overview](safety_and_security_overview.png)\n",
    "\n",
    "### Overview\n",
    "\n",
    "- Live video feeds from 9 cameras are continuously ingested into Streaming Data Platform (Pravega).\n",
    "\n",
    "- Pravega asynchronously writes all data to Long Term Storage (ECS, Isilon, or HDFS) for long-term retention.\n",
    "\n",
    "- Historical and live video can be played back using a simple example application (Jupyter Notebook).\n",
    "\n",
    "### Benefits of using Pravega vs. a NAS-only solution\n",
    "\n",
    "-  Pravega writes data *asynchronously* to Long Term Storage (ECS, Isilon, or HDFS) in large blocks, \n",
    "   which means that cost-effective magnetic media can be used.\n",
    "   Without Pravega, all writes must go to Long Term Storage immediately, requiring either expensive low-latency hardware\n",
    "   or reducing durability guarantees.\n",
    "   \n",
    "-  Video frames are written to Pravega atomically. Pravega guarantees that the stream will not be corrupted with partial frames.\n",
    "   Without Pravega, writes to SMB and NFS are generally not atomic.\n",
    "   \n",
    "-  Pravega does not make a video frame is available to readers until the entire video frame has been durably persisted.\n",
    "\n",
    "-  Pravega provides low end-to-end latency (15-20 milliseconds) between a camera writing a frame and a video player displaying it.\n",
    "   This is less than 1 frame at 60 frames per second.\n",
    "   **This low latency is impossible to achieve with file-only workflows due to limitations of locking, polling, NFS, and SMB.**\n",
    "   \n",
    "-  Older frames of video streams can be automatically truncated based on time or size limits.\n",
    "\n",
    "-  The same API can be used to read live video or historical data from years ago, regardless of Long Term Storage technology.\n",
    "   Pravega will serve data cached in memory if available or it will read from Long Term Storage.\n",
    "\n",
    "### About the video feeds\n",
    "\n",
    "To avoid the need for a set of live cameras for this demo, we play back video from a set of JPEG files on disk\n",
    "and write each video frame to Pravega.\n",
    "\n",
    "Some of these videos are from the [VIRAT Video Dataset](https://viratdata.org/)\n",
    "and the [MEVA Video Dataset](http://mevadata.org/).\n",
    "\n",
    "- We simulate 9 simultaneous ground and aerial cameras.\n",
    "- Maximum video frame size is 1365 x 720 pixels, 140 KB, RGB color, JPEG format.\n",
    "- Each camera records at 10 frames per second.\n",
    "- The total ingest rate is 10 MB/sec.\n",
    "\n",
    "---"
   ]
  },
  {
   "cell_type": "markdown",
   "metadata": {},
   "source": [
    "### How to use this notebook\n",
    "1. [Install dependencies](install_dependencies.ipynb).\n",
    "2. [Begin ingesting data](safety_and_security_ingest.ipynb).\n",
    "3. [Run continuous index builder job](safety_and_security_index_builder.ipynb).\n",
    "2. Click *Kernel* -> *Restart Kernel and Run All Cells*."
   ]
  },
  {
   "cell_type": "markdown",
   "metadata": {},
   "source": [
    "### Initialize"
   ]
  },
  {
   "cell_type": "code",
   "execution_count": null,
   "metadata": {
    "jupyter": {
     "source_hidden": true
    }
   },
   "outputs": [],
   "source": [
    "#### Import dependencies\n",
    "%load_ext autoreload\n",
    "%autoreload 2\n",
    "import grpc\n",
    "import imp\n",
    "import pravega.grpc_gateway as pravega\n",
    "import pravega.video as video\n",
    "from pravega.video import VideoPlayer\n",
    "import os\n",
    "imp.reload(video);\n",
    "\n",
    "### Define Pravega stream parameters\n",
    "\n",
    "gateway = os.environ['PRAVEGA_GRPC_GATEWAY_ADDRESS']\n",
    "scope = 'examples'\n",
    "stream = 'safety-and-security-1'\n",
    "\n",
    "### Initialize connection to Pravega GRPC Gateway\n",
    "\n",
    "pravega_channel = grpc.insecure_channel(gateway, options=[\n",
    "        ('grpc.max_receive_message_length', 9*1024*1024),\n",
    "    ])\n",
    "pravega_client = pravega.grpc.PravegaGatewayStub(pravega_channel)"
   ]
  },
  {
   "cell_type": "markdown",
   "metadata": {},
   "source": [
    "---\n",
    "### Video Player"
   ]
  },
  {
   "cell_type": "code",
   "execution_count": null,
   "metadata": {},
   "outputs": [],
   "source": [
    "player = VideoPlayer(pravega_client=pravega_client, scope=scope, stream=stream)\n",
    "player.interact()"
   ]
  },
  {
   "cell_type": "code",
   "execution_count": null,
   "metadata": {},
   "outputs": [],
   "source": []
  }
 ],
 "metadata": {
  "kernelspec": {
   "display_name": "Python 3",
   "language": "python",
   "name": "python3"
  },
  "language_info": {
   "codemirror_mode": {
    "name": "ipython",
    "version": 3
   },
   "file_extension": ".py",
   "mimetype": "text/x-python",
   "name": "python",
   "nbconvert_exporter": "python",
   "pygments_lexer": "ipython3",
   "version": "3.7.6"
  }
 },
 "nbformat": 4,
 "nbformat_minor": 4
}
