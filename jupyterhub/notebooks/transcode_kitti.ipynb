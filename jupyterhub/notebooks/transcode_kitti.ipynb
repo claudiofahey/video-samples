{
 "cells": [
  {
   "cell_type": "code",
   "execution_count": null,
   "metadata": {},
   "outputs": [],
   "source": [
    "import cv2\n",
    "import glob\n",
    "import itertools\n",
    "import os\n",
    "from pathlib import Path"
   ]
  },
  {
   "cell_type": "code",
   "execution_count": null,
   "metadata": {},
   "outputs": [],
   "source": [
    "input_filespecs = [\n",
    "    '../../data/kitti/2011_09_26/2011_09_26_drive_0005_sync/image_02/data/*.png',\n",
    "    '../../data/kitti/2011_09_26/2011_09_26_drive_0009_sync/image_02/data/*.png',\n",
    "    '../../data/kitti/2011_09_26/2011_09_26_drive_0011_sync/image_02/data/*.png',\n",
    "    '../../data/kitti/2011_09_26/2011_09_26_drive_0051_sync/image_02/data/*.png',\n",
    "]"
   ]
  },
  {
   "cell_type": "code",
   "execution_count": null,
   "metadata": {},
   "outputs": [],
   "source": [
    "def transcode(input_filename, quality=50):\n",
    "    output_filename = str(Path(input_filename).with_suffix('.jpg'))\n",
    "    img = cv2.imread(input_filename, cv2.IMREAD_UNCHANGED)\n",
    "    cv2.imwrite(output_filename, img, [int(cv2.IMWRITE_JPEG_QUALITY), quality])\n",
    "    print('%s -> %s; %d -> %d' % (input_filename, output_filename, os.path.getsize(input_filename), os.path.getsize(output_filename)))    "
   ]
  },
  {
   "cell_type": "code",
   "execution_count": null,
   "metadata": {},
   "outputs": [],
   "source": [
    "for input_filespec in input_filespecs:\n",
    "    for input_filename in sorted(glob.glob(input_filespec)):\n",
    "        transcode(input_filename)        "
   ]
  },
  {
   "cell_type": "code",
   "execution_count": null,
   "metadata": {},
   "outputs": [],
   "source": []
  }
 ],
 "metadata": {
  "kernelspec": {
   "display_name": "Python 3",
   "language": "python",
   "name": "python3"
  },
  "language_info": {
   "codemirror_mode": {
    "name": "ipython",
    "version": 3
   },
   "file_extension": ".py",
   "mimetype": "text/x-python",
   "name": "python",
   "nbconvert_exporter": "python",
   "pygments_lexer": "ipython3",
   "version": "3.7.6"
  }
 },
 "nbformat": 4,
 "nbformat_minor": 4
}
