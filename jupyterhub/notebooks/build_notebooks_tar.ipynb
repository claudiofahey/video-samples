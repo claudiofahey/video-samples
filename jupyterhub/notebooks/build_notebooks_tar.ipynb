{
 "cells": [
  {
   "cell_type": "code",
   "execution_count": 10,
   "metadata": {},
   "outputs": [
    {
     "name": "stdout",
     "output_type": "stream",
     "text": [
      "./\n",
      "./safety_and_security_transcode_from_video.ipynb\n",
      "./adas_download.ipynb\n",
      "./adas_transcode_from_video.ipynb\n",
      "./video_queries.ipynb\n",
      "./safety_and_security_download.ipynb\n",
      "./multi_video_grid_overview.ipynb\n",
      "./adas_overview.png\n",
      "./safety_and_security_index_builder.ipynb\n",
      "./adas_transcode_from_png.ipynb\n",
      "./adas_ingest.ipynb\n",
      "./video_data_generator.ipynb\n",
      "./safety_and_security_with_flink.png\n",
      "./adas_index_builder.ipynb\n",
      "./pravega/\n",
      "./pravega/video/\n",
      "./pravega/video/transcoding.py\n",
      "./pravega/video/pravega_video.py\n",
      "./pravega/video/__init__.py\n",
      "./safety_and_security_ingest.ipynb\n",
      "./index_builder.ipynb\n",
      "./safety_and_security_overview.png\n",
      "./build_notebooks_tar.ipynb\n",
      "./memory_eater_writer.ipynb\n",
      "./multi_video_grid_test.ipynb\n",
      "./install_dependencies.ipynb\n",
      "./video_player.ipynb\n",
      "./copy_from_video_file.ipynb\n",
      "./multi_video_grid_index_builder.ipynb\n",
      "./memory_eater_reader.ipynb\n",
      "./safety_and_security_overview.ipynb\n",
      "./check_ordering.ipynb\n",
      "./multi_video_grid_overview.png\n",
      "./multi_video_grid_ingest.ipynb\n"
     ]
    }
   ],
   "source": [
    "!tar -czvf notebooks.tgz --exclude=\\*.pyc --exclude=__pycache__ --exclude=.ipynb_checkpoints --exclude=.empty --exclude=\\*.tgz ."
   ]
  },
  {
   "cell_type": "code",
   "execution_count": null,
   "metadata": {},
   "outputs": [],
   "source": []
  }
 ],
 "metadata": {
  "kernelspec": {
   "display_name": "Python 3",
   "language": "python",
   "name": "python3"
  },
  "language_info": {
   "codemirror_mode": {
    "name": "ipython",
    "version": 3
   },
   "file_extension": ".py",
   "mimetype": "text/x-python",
   "name": "python",
   "nbconvert_exporter": "python",
   "pygments_lexer": "ipython3",
   "version": "3.7.6"
  }
 },
 "nbformat": 4,
 "nbformat_minor": 4
}
