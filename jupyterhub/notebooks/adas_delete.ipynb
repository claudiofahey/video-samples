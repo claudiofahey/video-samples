{
 "cells": [
  {
   "cell_type": "markdown",
   "metadata": {},
   "source": [
    "---\n",
    "# ADAS - Ingest Video and Sensor Streams\n",
    "\n",
    "To avoid the need for a set of live cameras for this demo, we play back video from a series of JPEG files on disk\n",
    "and write each video frame to SDP.\n",
    "These videos are part of the [KITTI Vision Benchmark Suite](http://www.cvlibs.net/datasets/kitti/raw_data.php).\n",
    "\n",
    "---"
   ]
  },
  {
   "cell_type": "markdown",
   "metadata": {},
   "source": [
    "### Import dependencies"
   ]
  },
  {
   "cell_type": "code",
   "execution_count": 1,
   "metadata": {},
   "outputs": [],
   "source": [
    "%load_ext autoreload\n",
    "%autoreload 2\n",
    "import grpc\n",
    "import imp\n",
    "import pravega.grpc_gateway as pravega\n",
    "import pravega.video as video\n",
    "from pravega.video import UnindexedStream, OutputStream, opencv_image_to_mpl, ImageFileSequenceLoader, UnindexedStream\n",
    "import os\n",
    "from pathlib import Path\n",
    "import pandas as pd\n",
    "import numpy as np\n",
    "import base64\n",
    "from multiprocessing import Process\n",
    "import json\n",
    "from itertools import islice\n",
    "import time"
   ]
  },
  {
   "cell_type": "markdown",
   "metadata": {},
   "source": [
    "### Define Pravega stream parameters"
   ]
  },
  {
   "cell_type": "code",
   "execution_count": 9,
   "metadata": {},
   "outputs": [],
   "source": [
    "gateway = os.environ['PRAVEGA_GRPC_GATEWAY_ADDRESS']\n",
    "scope = 'examples'"
   ]
  },
  {
   "cell_type": "markdown",
   "metadata": {},
   "source": [
    "### Initialize connection to Pravega GRPC Gateway"
   ]
  },
  {
   "cell_type": "code",
   "execution_count": 10,
   "metadata": {},
   "outputs": [],
   "source": [
    "pravega_channel = grpc.insecure_channel(gateway)\n",
    "pravega_client = pravega.grpc.PravegaGatewayStub(pravega_channel)"
   ]
  },
  {
   "cell_type": "code",
   "execution_count": 11,
   "metadata": {},
   "outputs": [],
   "source": [
    "#pravega_client.CreateScope(pravega.pb.CreateScopeRequest(scope=scope))"
   ]
  },
  {
   "cell_type": "markdown",
   "metadata": {},
   "source": [
    "### Create Pravega stream"
   ]
  },
  {
   "cell_type": "code",
   "execution_count": 12,
   "metadata": {},
   "outputs": [
    {
     "data": {
      "text/plain": [
       "['adas-raw-video',\n",
       " 'adas-raw-sensor',\n",
       " 'object-detector-output-video',\n",
       " 'object-detector-output-test',\n",
       " 'adas-raw-video-index',\n",
       " 'adas-raw-sensor-index',\n",
       " 'object-detector-output-video-index',\n",
       " 'object-detector-output-test-index']"
      ]
     },
     "execution_count": 12,
     "metadata": {},
     "output_type": "execute_result"
    }
   ],
   "source": [
    "streams_to_delete = [\n",
    "    'adas-raw-video',\n",
    "    'adas-raw-sensor',\n",
    "    'object-detector-output-video',\n",
    "    'object-detector-output-test',\n",
    "    'adas-raw-video' + '-index',\n",
    "    'adas-raw-sensor' + '-index',\n",
    "    'object-detector-output-video' + '-index',\n",
    "    'object-detector-output-test' + '-index',\n",
    "]\n",
    "streams_to_delete"
   ]
  },
  {
   "cell_type": "code",
   "execution_count": 13,
   "metadata": {},
   "outputs": [],
   "source": [
    "for s in streams_to_delete: UnindexedStream(pravega_client, scope, s).create_stream(min_num_segments=1)"
   ]
  },
  {
   "cell_type": "code",
   "execution_count": 14,
   "metadata": {},
   "outputs": [],
   "source": [
    "for s in streams_to_delete: UnindexedStream(pravega_client, scope, s).truncate_stream()"
   ]
  },
  {
   "cell_type": "code",
   "execution_count": 16,
   "metadata": {},
   "outputs": [],
   "source": [
    "for s in streams_to_delete: UnindexedStream(pravega_client, scope, s).create_stream(min_num_segments=1)"
   ]
  },
  {
   "cell_type": "code",
   "execution_count": null,
   "metadata": {},
   "outputs": [],
   "source": []
  }
 ],
 "metadata": {
  "kernelspec": {
   "display_name": "Python 3",
   "language": "python",
   "name": "python3"
  },
  "language_info": {
   "codemirror_mode": {
    "name": "ipython",
    "version": 3
   },
   "file_extension": ".py",
   "mimetype": "text/x-python",
   "name": "python",
   "nbconvert_exporter": "python",
   "pygments_lexer": "ipython3",
   "version": "3.7.6"
  }
 },
 "nbformat": 4,
 "nbformat_minor": 4
}
