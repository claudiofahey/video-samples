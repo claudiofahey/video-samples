{
 "cells": [
  {
   "cell_type": "markdown",
   "metadata": {},
   "source": [
    "---\n",
    "# ADAS - Ingest Video and Sensor Streams\n",
    "\n",
    "To avoid the need for a set of live cameras for this demo, we play back video from a series of JPEG files on disk\n",
    "and write each video frame to SDP.\n",
    "These videos are part of the [KITTI Vision Benchmark Suite](http://www.cvlibs.net/datasets/kitti/raw_data.php).\n",
    "\n",
    "---"
   ]
  },
  {
   "cell_type": "markdown",
   "metadata": {},
   "source": [
    "### Import dependencies"
   ]
  },
  {
   "cell_type": "code",
   "execution_count": null,
   "metadata": {},
   "outputs": [],
   "source": [
    "%load_ext autoreload\n",
    "%autoreload 2\n",
    "import grpc\n",
    "import imp\n",
    "import pravega.grpc_gateway as pravega\n",
    "import pravega.video as video\n",
    "from pravega.video import UnindexedStream, OutputStream, opencv_image_to_mpl, ImageFileSequenceLoader, UnindexedStream\n",
    "import os\n",
    "from pathlib import Path\n",
    "import pandas as pd\n",
    "import numpy as np\n",
    "import base64\n",
    "from multiprocessing import Process\n",
    "import json\n",
    "from itertools import islice\n",
    "import time"
   ]
  },
  {
   "cell_type": "markdown",
   "metadata": {},
   "source": [
    "### Define Pravega stream parameters"
   ]
  },
  {
   "cell_type": "code",
   "execution_count": null,
   "metadata": {},
   "outputs": [],
   "source": [
    "gateway = os.environ['PRAVEGA_GRPC_GATEWAY_ADDRESS']\n",
    "scope = 'examples'\n",
    "video_stream_name = 'adas-raw-video'\n",
    "sensor_stream_name = 'adas-raw-sensor'"
   ]
  },
  {
   "cell_type": "markdown",
   "metadata": {},
   "source": [
    "### Initialize connection to Pravega GRPC Gateway - SKIP WHEN RUNNING SIMULATOR"
   ]
  },
  {
   "cell_type": "code",
   "execution_count": null,
   "metadata": {},
   "outputs": [],
   "source": [
    "pravega_channel = grpc.insecure_channel(gateway)\n",
    "pravega_client = pravega.grpc.PravegaGatewayStub(pravega_channel)"
   ]
  },
  {
   "cell_type": "code",
   "execution_count": null,
   "metadata": {},
   "outputs": [],
   "source": [
    "#pravega_client.CreateScope(pravega.pb.CreateScopeRequest(scope=scope))"
   ]
  },
  {
   "cell_type": "markdown",
   "metadata": {},
   "source": [
    "### Create Pravega stream - SKIP WHEN RUNNING SIMULATOR"
   ]
  },
  {
   "cell_type": "code",
   "execution_count": null,
   "metadata": {},
   "outputs": [],
   "source": [
    "video_stream = UnindexedStream(pravega_client, scope, video_stream_name)\n",
    "#video_stream.delete_stream()\n",
    "video_stream.create_stream(min_num_segments=1)\n",
    "video_stream.truncate_stream()"
   ]
  },
  {
   "cell_type": "code",
   "execution_count": null,
   "metadata": {},
   "outputs": [],
   "source": [
    "sensor_stream = UnindexedStream(pravega_client, scope, sensor_stream_name)\n",
    "#sensor_stream.delete_stream()\n",
    "sensor_stream.create_stream(min_num_segments=1)\n",
    "sensor_stream.truncate_stream()"
   ]
  },
  {
   "cell_type": "code",
   "execution_count": null,
   "metadata": {},
   "outputs": [],
   "source": [
    "# Truncate object detector output stream\n",
    "detected_stream = OutputStream(pravega_client, scope, 'object-detector-output-video')\n",
    "#detected_stream.delete_stream()\n",
    "detected_stream.create_stream(min_num_segments=1)\n",
    "detected_stream.truncate_stream()"
   ]
  },
  {
   "cell_type": "markdown",
   "metadata": {},
   "source": [
    "### Ingest JPEG images from files (multiple cameras)"
   ]
  },
  {
   "cell_type": "code",
   "execution_count": null,
   "metadata": {},
   "outputs": [],
   "source": [
    "prefix = '../../data/'\n",
    "data_dirs = [\n",
    "    prefix + 'kitti/2011_09_26/2011_09_26_drive_0005_sync',\n",
    "    prefix + 'kitti/2011_09_26/2011_09_26_drive_0009_sync',\n",
    "    prefix + 'kitti/2011_09_26/2011_09_26_drive_0011_sync',\n",
    "    prefix + 'kitti/2011_09_26/2011_09_26_drive_0014_sync',\n",
    "    prefix + 'kitti/2011_09_26/2011_09_26_drive_0051_sync',\n",
    "    prefix + 'kitti/2011_09_26/2011_09_26_drive_0059_sync',\n",
    "    prefix + 'kitti/2011_09_26/2011_09_26_drive_0084_sync',\n",
    "    prefix + 'kitti/2011_09_29/2011_09_29_drive_0071_sync',\n",
    "]"
   ]
  },
  {
   "cell_type": "code",
   "execution_count": null,
   "metadata": {},
   "outputs": [],
   "source": [
    "imp.reload(video);\n",
    "import pravega.video as video\n",
    "from pravega.video import UnindexedStream, KittiFleetSimulator\n",
    "imp.reload(video);"
   ]
  },
  {
   "cell_type": "code",
   "execution_count": null,
   "metadata": {},
   "outputs": [],
   "source": [
    "simulator = KittiFleetSimulator(gateway=gateway, scope=scope, video_stream_name=video_stream_name, \n",
    "                                sensor_stream_name=sensor_stream_name, data_dirs=data_dirs)"
   ]
  },
  {
   "cell_type": "code",
   "execution_count": null,
   "metadata": {},
   "outputs": [],
   "source": [
    "simulator.run()"
   ]
  },
  {
   "cell_type": "code",
   "execution_count": null,
   "metadata": {},
   "outputs": [],
   "source": []
  }
 ],
 "metadata": {
  "kernelspec": {
   "display_name": "Python 3",
   "language": "python",
   "name": "python3"
  },
  "language_info": {
   "codemirror_mode": {
    "name": "ipython",
    "version": 3
   },
   "file_extension": ".py",
   "mimetype": "text/x-python",
   "name": "python",
   "nbconvert_exporter": "python",
   "pygments_lexer": "ipython3",
   "version": "3.7.6"
  }
 },
 "nbformat": 4,
 "nbformat_minor": 4
}
