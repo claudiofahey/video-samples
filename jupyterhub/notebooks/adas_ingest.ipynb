{
 "cells": [
  {
   "cell_type": "markdown",
   "metadata": {},
   "source": [
    "---\n",
    "# Demo Use Case - Ingest Live Video Streams (Part 1)\n",
    "\n",
    "![overview](adas_overview.png)\n",
    "\n",
    "A data scientist is part of a team developing an advanced driver-assistance system (ADAS).\n",
    "They continuously collect video, lidar, and other sensor data from their fleet of test vehicles.\n",
    "The data scientist wants to test a new object detection model on video collected today.\n",
    "\n",
    "The purpose of this Jupyter notebook is to simulate the ingestion of real-time video into Streaming Data Platform (SDP).\n",
    "\n",
    "To avoid the need for a set of live cameras for this demo, we play back video from a series of JPEG files on disk\n",
    "and write each video frame to SDP.\n",
    "These videos are part of the [KITTI Vision Benchmark Suite](http://www.cvlibs.net/datasets/kitti/raw_data.php).\n",
    "\n",
    "- We simulate up to 12 simultaneous cameras from different vehicles.\n",
    "- Each video frame is 1242 x 374 pixels, RGB color, JPEG format.\n",
    "- JPEG image sizes average 50 KB.\n",
    "- Each camera records at 10 frames per second.\n",
    "- The total ingest rate is 2.1 MB/sec.\n",
    "\n",
    "---"
   ]
  },
  {
   "cell_type": "markdown",
   "metadata": {},
   "source": [
    "### Prerequisites\n",
    "\n",
    "1. [install_dependencies.ipynb](install_dependencies.ipynb).\n",
    "2. [adas_download.ipynb](adas_download.ipynb).\n",
    "3. [adas_transcode_from_png.ipynb](adas_transcode_from_png.ipynb)."
   ]
  },
  {
   "cell_type": "markdown",
   "metadata": {},
   "source": [
    "### How to use this Notebook\n",
    "1. Click *Kernel* -> *Restart Kernel and Run All Cells*."
   ]
  },
  {
   "cell_type": "markdown",
   "metadata": {},
   "source": [
    "### Import dependencies"
   ]
  },
  {
   "cell_type": "code",
   "execution_count": null,
   "metadata": {},
   "outputs": [],
   "source": [
    "%load_ext autoreload\n",
    "%autoreload 2\n",
    "import grpc\n",
    "import imp\n",
    "import pravega.grpc_gateway as pravega\n",
    "import pravega.video as video\n",
    "from pravega.video import UnindexedStream, OutputStream, opencv_image_to_mpl, ImageFileSequenceLoader\n",
    "import os"
   ]
  },
  {
   "cell_type": "markdown",
   "metadata": {},
   "source": [
    "### Define Pravega stream parameters"
   ]
  },
  {
   "cell_type": "code",
   "execution_count": null,
   "metadata": {},
   "outputs": [],
   "source": [
    "gateway = os.environ['PRAVEGA_GRPC_GATEWAY_ADDRESS']\n",
    "scope = 'examples'\n",
    "stream = 'adas-raw-video'\n",
    "#stream = 'object-detector-input-video'"
   ]
  },
  {
   "cell_type": "markdown",
   "metadata": {},
   "source": [
    "### Initialize connection to Pravega GRPC Gateway"
   ]
  },
  {
   "cell_type": "code",
   "execution_count": null,
   "metadata": {},
   "outputs": [],
   "source": [
    "pravega_channel = grpc.insecure_channel(gateway)\n",
    "pravega_client = pravega.grpc.PravegaGatewayStub(pravega_channel)"
   ]
  },
  {
   "cell_type": "code",
   "execution_count": null,
   "metadata": {},
   "outputs": [],
   "source": [
    "#pravega_client.CreateScope(pravega.pb.CreateScopeRequest(scope=scope))"
   ]
  },
  {
   "cell_type": "markdown",
   "metadata": {},
   "source": [
    "### Create Pravega stream"
   ]
  },
  {
   "cell_type": "code",
   "execution_count": null,
   "metadata": {},
   "outputs": [],
   "source": [
    "output_stream = OutputStream(pravega_client, scope, stream)\n",
    "#output_stream.delete_stream()\n",
    "output_stream.create_stream(min_num_segments=1)\n",
    "output_stream.truncate_stream()"
   ]
  },
  {
   "cell_type": "code",
   "execution_count": null,
   "metadata": {},
   "outputs": [],
   "source": [
    "# Truncate object detector output stream\n",
    "detected_stream = OutputStream(pravega_client, scope, 'object-detector-output-video')\n",
    "#detected_stream.delete_stream()\n",
    "detected_stream.create_stream(min_num_segments=1)\n",
    "detected_stream.truncate_stream()"
   ]
  },
  {
   "cell_type": "markdown",
   "metadata": {},
   "source": [
    "### Ingest JPEG images from files (multiple cameras)"
   ]
  },
  {
   "cell_type": "code",
   "execution_count": null,
   "metadata": {},
   "outputs": [],
   "source": [
    "prefix = '../../data/'\n",
    "camera_filespecs = [\n",
    "    prefix + 'kitti/2011_09_26/2011_09_26_drive_0005_sync/image_02/data/*.jpg',\n",
    "#     prefix + 'kitti/2011_09_26/2011_09_26_drive_0009_sync/image_02/data/*.jpg',\n",
    "#     '../../data/adas/traffic-flow-in-the-highway-2103099/*.jpg',\n",
    "#     prefix + 'kitti/2011_09_26/2011_09_26_drive_0011_sync/image_02/data/*.jpg',\n",
    "#     prefix + 'kitti/2011_09_26/2011_09_26_drive_0051_sync/image_02/data/*.jpg',\n",
    "#     prefix + 'kitti/2011_09_26/2011_09_26_drive_0009_sync/image_02/data/*.jpg',\n",
    "#     prefix + 'kitti/2011_09_26/2011_09_26_drive_0011_sync/image_02/data/*.jpg',\n",
    "#     prefix + 'kitti/2011_09_26/2011_09_26_drive_0014_sync/image_02/data/*.jpg',\n",
    "#     prefix + 'kitti/2011_09_26/2011_09_26_drive_0051_sync/image_02/data/*.jpg',\n",
    "#     prefix + 'kitti/2011_09_26/2011_09_26_drive_0059_sync/image_02/data/*.jpg',\n",
    "#     prefix + 'kitti/2011_09_26/2011_09_26_drive_0084_sync/image_02/data/*.jpg',\n",
    "#     prefix + 'kitti/2011_09_29/2011_09_29_drive_0071_sync/image_02/data/*.jpg',\n",
    "]\n",
    "fps = 10  # 10 for kitti\n",
    "step = 1"
   ]
  },
  {
   "cell_type": "code",
   "execution_count": null,
   "metadata": {},
   "outputs": [],
   "source": [
    "#camera_filespecs = camera_filespecs * 10"
   ]
  },
  {
   "cell_type": "code",
   "execution_count": null,
   "metadata": {},
   "outputs": [],
   "source": [
    "loader = ImageFileSequenceLoader(scope, stream, camera_filespecs, fps, step=step)\n",
    "events_to_write = loader.event_generator()\n",
    "output_stream.write_events(events_to_write)"
   ]
  },
  {
   "cell_type": "code",
   "execution_count": null,
   "metadata": {},
   "outputs": [],
   "source": []
  }
 ],
 "metadata": {
  "kernelspec": {
   "display_name": "Python 3",
   "language": "python",
   "name": "python3"
  },
  "language_info": {
   "codemirror_mode": {
    "name": "ipython",
    "version": 3
   },
   "file_extension": ".py",
   "mimetype": "text/x-python",
   "name": "python",
   "nbconvert_exporter": "python",
   "pygments_lexer": "ipython3",
   "version": "3.7.6"
  }
 },
 "nbformat": 4,
 "nbformat_minor": 4
}
