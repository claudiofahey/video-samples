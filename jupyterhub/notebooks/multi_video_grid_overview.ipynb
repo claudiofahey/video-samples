{
 "cells": [
  {
   "cell_type": "markdown",
   "metadata": {},
   "source": [
    "---\n",
    "# Using Flink to Read, Process, and Write Streams\n",
    "\n",
    "![overview](safety_and_security_with_flink.png)\n",
    "\n",
    "- Flink is fully integrated into Streaming Data Platform and it can be used to read, process, and write streams, including video streams.\n",
    "\n",
    "---\n",
    "# Multi Video Grid Flink Job\n",
    "\n",
    "![overview](multi_video_grid_overview.png)\n",
    "\n",
    "- Live video feeds from 4 cameras are continuously ingested into Streaming Data Platform (Pravega).\n",
    "  This original video is ingested into the stream named *safety-and-security-video*.\n",
    "\n",
    "- The Flink Multi Video Grid job is a streaming job that scales down the original videos, and combines them into a 2x2 grid, and produces a new video stream named *multi-video-grid-output*.\n",
    "\n",
    "- All operations are parallelized across multiple servers. \n",
    "  By increasing the number of Flink containers (Task Managers), the number of cameras, frame rate, and resolution can be increased.\n",
    "  This demo uses a parallelism of 16 and uses 16 CPU cores.\n",
    "\n",
    "- Watermarks are used to correctly align videos by time window.\n",
    "\n",
    "- Pravega and Flink ordering guarantees are utilized to ensure that output images are ordered correctly.\n",
    "\n",
    "- This demo produces output images of 1280x720 resolution, JPEG format, at 4 frames per second.\n",
    "  It achieves an end-to-end latency of 1.2 to 1.5 seconds.  \n",
    "\n",
    "---"
   ]
  },
  {
   "cell_type": "markdown",
   "metadata": {},
   "source": [
    "### How to use this notebook\n",
    "1. [Install dependencies](install_dependencies.ipynb).\n",
    "2. [safety_and_security_download.ipynb](safety_and_security_download.ipynb).\n",
    "3. [safety_and_security_transcode_from_video.ipynb](safety_and_security_transcode_from_video.ipynb).\n",
    "4. [Begin ingesting data](safety_and_security_ingest.ipynb).\n",
    "5. Run Flink job multi-video-grid-job.\n",
    "6. [Run continuous index builder job](multi_video_grid_index_builder.ipynb).\n",
    "7. Run video player. Click *Kernel* -> *Restart Kernel and Run All Cells*."
   ]
  },
  {
   "cell_type": "markdown",
   "metadata": {},
   "source": [
    "### Initialize"
   ]
  },
  {
   "cell_type": "code",
   "execution_count": 3,
   "metadata": {},
   "outputs": [
    {
     "name": "stdout",
     "output_type": "stream",
     "text": [
      "The autoreload extension is already loaded. To reload it, use:\n",
      "  %reload_ext autoreload\n"
     ]
    }
   ],
   "source": [
    "#### Import dependencies\n",
    "%load_ext autoreload\n",
    "%autoreload 2\n",
    "import grpc\n",
    "import imp\n",
    "import pravega.grpc_gateway as pravega\n",
    "import pravega.video as video\n",
    "from pravega.video import VideoPlayer\n",
    "import os\n",
    "imp.reload(video);\n",
    "\n",
    "### Define Pravega stream parameters\n",
    "\n",
    "gateway = os.environ['PRAVEGA_GRPC_GATEWAY_ADDRESS']\n",
    "scope = 'examples'\n",
    "stream = 'multi-video-grid-output'\n",
    "\n",
    "### Initialize connection to Pravega GRPC Gateway\n",
    "\n",
    "pravega_channel = grpc.insecure_channel(gateway, options=[\n",
    "        ('grpc.max_receive_message_length', 9*1024*1024),\n",
    "    ])\n",
    "pravega_client = pravega.grpc.PravegaGatewayStub(pravega_channel)"
   ]
  },
  {
   "cell_type": "markdown",
   "metadata": {},
   "source": [
    "---\n",
    "### Video Player"
   ]
  },
  {
   "cell_type": "code",
   "execution_count": 5,
   "metadata": {},
   "outputs": [
    {
     "name": "stdout",
     "output_type": "stream",
     "text": [
      "load_index: Reading index stream multi-video-grid-output-index\n"
     ]
    },
    {
     "data": {
      "application/vnd.jupyter.widget-view+json": {
       "model_id": "70e565e9f1ac40948ec7acfa1f6fc193",
       "version_major": 2,
       "version_minor": 0
      },
      "text/plain": [
       "VBox(children=(Button(description='▶', layout=Layout(width='4em'), style=ButtonStyle()), ToggleButton(value=Fa…"
      ]
     },
     "metadata": {},
     "output_type": "display_data"
    }
   ],
   "source": [
    "VideoPlayer(pravega_client=pravega_client, scope=scope, stream=stream).interact()"
   ]
  },
  {
   "cell_type": "code",
   "execution_count": null,
   "metadata": {},
   "outputs": [],
   "source": []
  }
 ],
 "metadata": {
  "kernelspec": {
   "display_name": "Python 3",
   "language": "python",
   "name": "python3"
  },
  "language_info": {
   "codemirror_mode": {
    "name": "ipython",
    "version": 3
   },
   "file_extension": ".py",
   "mimetype": "text/x-python",
   "name": "python",
   "nbconvert_exporter": "python",
   "pygments_lexer": "ipython3",
   "version": "3.7.6"
  }
 },
 "nbformat": 4,
 "nbformat_minor": 4
}
