{
 "cells": [
  {
   "cell_type": "code",
   "execution_count": null,
   "metadata": {},
   "outputs": [],
   "source": [
    "import cv2\n",
    "import glob\n",
    "import itertools\n",
    "import os\n",
    "from pathlib import Path"
   ]
  },
  {
   "cell_type": "code",
   "execution_count": null,
   "metadata": {},
   "outputs": [],
   "source": [
    "input_filespecs = [\n",
    "    '../../data/Pexels Videos 2103099.mp4',\n",
    "]\n",
    "#size = (640, 360)\n",
    "size = (1280, 720) # 720p"
   ]
  },
  {
   "cell_type": "code",
   "execution_count": null,
   "metadata": {},
   "outputs": [],
   "source": [
    "def transcode(input_filename, quality=50, skip_if_exists=True, size=None):\n",
    "    output_dir = Path(input_filename).with_suffix('')\n",
    "    print(f'{input_filename} -> {output_dir}')    \n",
    "    if skip_if_exists and output_dir.exists():\n",
    "        print('Output directory already exists. Skipping.')\n",
    "        return\n",
    "    vidcap = cv2.VideoCapture(input_filename)\n",
    "    output_dir.mkdir(exist_ok=True)\n",
    "    frame_number = 0\n",
    "    while True:\n",
    "        success, image = vidcap.read()\n",
    "        if not success:\n",
    "            break\n",
    "        if size:\n",
    "            image = cv2.resize(image, size, interpolation=cv2.INTER_AREA)\n",
    "        output_filename = output_dir / ('%08d.jpg' % frame_number)\n",
    "        print(f'{output_filename}', end='\\r')\n",
    "        cv2.imwrite(str(output_filename), image, [int(cv2.IMWRITE_JPEG_QUALITY), quality])\n",
    "        frame_number += 1\n",
    "    print('')"
   ]
  },
  {
   "cell_type": "code",
   "execution_count": null,
   "metadata": {},
   "outputs": [],
   "source": [
    "for input_filespec in input_filespecs:\n",
    "    for input_filename in sorted(glob.glob(input_filespec)):\n",
    "        transcode(input_filename, size=size, skip_if_exists=False)"
   ]
  }
 ],
 "metadata": {
  "kernelspec": {
   "display_name": "Python 3",
   "language": "python",
   "name": "python3"
  },
  "language_info": {
   "codemirror_mode": {
    "name": "ipython",
    "version": 3
   },
   "file_extension": ".py",
   "mimetype": "text/x-python",
   "name": "python",
   "nbconvert_exporter": "python",
   "pygments_lexer": "ipython3",
   "version": "3.7.6"
  }
 },
 "nbformat": 4,
 "nbformat_minor": 4
}
