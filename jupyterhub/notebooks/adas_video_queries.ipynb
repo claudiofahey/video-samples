{
 "cells": [
  {
   "cell_type": "markdown",
   "metadata": {},
   "source": [
    "---\n",
    "# ADAS - Queries and Analytics on Video\n",
    "\n",
    "The data scientist now wants to focus on video frames in which trains were detected.\n",
    "\n",
    "The metadata for the video stream produced by the object detection job is loaded into a Pandas dataframe.\n",
    "This dataframe is used to allow the data scientist to view any image stored in SDP.\n",
    "They can also filter, sort, and aggregate the dataframe using methods that data scientists are familar with.\n",
    "\n",
    "---"
   ]
  },
  {
   "cell_type": "markdown",
   "metadata": {
    "jupyter": {
     "source_hidden": true
    }
   },
   "source": [
    "### Import dependencies"
   ]
  },
  {
   "cell_type": "code",
   "execution_count": 1,
   "metadata": {
    "collapsed": true,
    "jupyter": {
     "outputs_hidden": true,
     "source_hidden": true
    }
   },
   "outputs": [],
   "source": [
    "%load_ext autoreload\n",
    "%autoreload 2\n",
    "\n",
    "from matplotlib import pyplot as plt\n",
    "import IPython\n",
    "import cv2\n",
    "import itertools\n",
    "import numpy as np\n",
    "import pandas as pd\n",
    "import json\n",
    "import base64\n",
    "import datetime\n",
    "import time\n",
    "from ipywidgets import interact, interactive, fixed, interact_manual\n",
    "from IPython.display import display\n",
    "import ipywidgets as widgets\n",
    "from pathlib import Path\n",
    "import grpc\n",
    "import imp\n",
    "import pravega.grpc_gateway as pravega\n",
    "import pravega.video as video\n",
    "from pravega.video import UnindexedStream, OutputStream, IndexedStream, opencv_image_to_mpl, VideoPlayer\n",
    "from matplotlib import pyplot as plt\n",
    "from copy import copy\n",
    "import os\n",
    "\n",
    "imp.reload(video);"
   ]
  },
  {
   "cell_type": "code",
   "execution_count": 2,
   "metadata": {
    "collapsed": true,
    "jupyter": {
     "outputs_hidden": true,
     "source_hidden": true
    }
   },
   "outputs": [],
   "source": [
    "pd.options.display.max_rows = 1000"
   ]
  },
  {
   "cell_type": "markdown",
   "metadata": {
    "jupyter": {
     "source_hidden": true
    }
   },
   "source": [
    "### Define Pravega stream parameters"
   ]
  },
  {
   "cell_type": "code",
   "execution_count": 3,
   "metadata": {
    "collapsed": true,
    "jupyter": {
     "outputs_hidden": true,
     "source_hidden": true
    }
   },
   "outputs": [],
   "source": [
    "gateway = os.environ['PRAVEGA_GRPC_GATEWAY_ADDRESS']\n",
    "scope = 'examples'\n",
    "stream = 'object-detector-output-video'"
   ]
  },
  {
   "cell_type": "markdown",
   "metadata": {
    "jupyter": {
     "source_hidden": true
    }
   },
   "source": [
    "### Initialize connection to Pravega GRPC Gateway"
   ]
  },
  {
   "cell_type": "code",
   "execution_count": 4,
   "metadata": {
    "collapsed": true,
    "jupyter": {
     "outputs_hidden": true,
     "source_hidden": true
    }
   },
   "outputs": [],
   "source": [
    "pravega_channel = grpc.insecure_channel(gateway, options=[\n",
    "        ('grpc.max_receive_message_length', 9*1024*1024),\n",
    "    ])\n",
    "pravega_client = pravega.grpc.PravegaGatewayStub(pravega_channel)"
   ]
  },
  {
   "cell_type": "markdown",
   "metadata": {
    "jupyter": {
     "source_hidden": true
    }
   },
   "source": [
    "### Load timestamp index\n",
    "This is an index from timestamp to begin stream cut, end stream cut, and event pointer.\n",
    "This index is maintained by the job in [index_builder.ipynb](index_builder.ipynb).\n",
    "The video player uses the event pointer to fetch an individual frame. It uses the end stream cut to play from a particular frame."
   ]
  },
  {
   "cell_type": "code",
   "execution_count": 5,
   "metadata": {
    "collapsed": true,
    "jupyter": {
     "outputs_hidden": true,
     "source_hidden": true
    }
   },
   "outputs": [],
   "source": [
    "indexed_stream = IndexedStream(pravega_client, scope, stream)"
   ]
  },
  {
   "cell_type": "code",
   "execution_count": 6,
   "metadata": {
    "collapsed": true,
    "jupyter": {
     "outputs_hidden": true,
     "source_hidden": true
    }
   },
   "outputs": [
    {
     "name": "stdout",
     "output_type": "stream",
     "text": [
      "load_index: Reading index stream object-detector-output-video-index\n",
      "CPU times: user 1.54 s, sys: 725 ms, total: 2.26 s\n",
      "Wall time: 7.77 s\n"
     ]
    }
   ],
   "source": [
    "%%time\n",
    "indexed_stream.load_index(limit=10000)"
   ]
  },
  {
   "cell_type": "markdown",
   "metadata": {
    "jupyter": {
     "source_hidden": true
    }
   },
   "source": [
    "#### Show number of records in the index, first and last index records"
   ]
  },
  {
   "cell_type": "code",
   "execution_count": 7,
   "metadata": {
    "collapsed": true,
    "jupyter": {
     "outputs_hidden": true,
     "source_hidden": true
    }
   },
   "outputs": [
    {
     "data": {
      "text/plain": [
       "10000"
      ]
     },
     "execution_count": 7,
     "metadata": {},
     "output_type": "execute_result"
    }
   ],
   "source": [
    "len(indexed_stream.index_df)"
   ]
  },
  {
   "cell_type": "code",
   "execution_count": 8,
   "metadata": {
    "collapsed": true,
    "jupyter": {
     "outputs_hidden": true,
     "source_hidden": true
    }
   },
   "outputs": [
    {
     "data": {
      "text/html": [
       "<div>\n",
       "<style scoped>\n",
       "    .dataframe tbody tr th:only-of-type {\n",
       "        vertical-align: middle;\n",
       "    }\n",
       "\n",
       "    .dataframe tbody tr th {\n",
       "        vertical-align: top;\n",
       "    }\n",
       "\n",
       "    .dataframe thead th {\n",
       "        text-align: right;\n",
       "    }\n",
       "</style>\n",
       "<table border=\"1\" class=\"dataframe\">\n",
       "  <thead>\n",
       "    <tr style=\"text-align: right;\">\n",
       "      <th>timestamp</th>\n",
       "      <th>2020-04-21 18:55:05.344000+00:00</th>\n",
       "      <th>2020-04-21 19:23:55.985000+00:00</th>\n",
       "    </tr>\n",
       "  </thead>\n",
       "  <tbody>\n",
       "    <tr>\n",
       "      <th>camera</th>\n",
       "      <td>2</td>\n",
       "      <td>0</td>\n",
       "    </tr>\n",
       "    <tr>\n",
       "      <th>ssrc</th>\n",
       "      <td>0</td>\n",
       "      <td>0</td>\n",
       "    </tr>\n",
       "    <tr>\n",
       "      <th>frameNumber</th>\n",
       "      <td>0</td>\n",
       "      <td>645</td>\n",
       "    </tr>\n",
       "    <tr>\n",
       "      <th>hash</th>\n",
       "      <td>None</td>\n",
       "      <td>None</td>\n",
       "    </tr>\n",
       "    <tr>\n",
       "      <th>tags</th>\n",
       "      <td>None</td>\n",
       "      <td>None</td>\n",
       "    </tr>\n",
       "    <tr>\n",
       "      <th>kittiSensorReadings</th>\n",
       "      <td>None</td>\n",
       "      <td>None</td>\n",
       "    </tr>\n",
       "    <tr>\n",
       "      <th>recognitions</th>\n",
       "      <td>[{'id': 6, 'title': 'car', 'confidence': 0.372...</td>\n",
       "      <td>[{'id': 14, 'title': 'person', 'confidence': 0...</td>\n",
       "    </tr>\n",
       "    <tr>\n",
       "      <th>sourceEventPointer</th>\n",
       "      <td>{'eventPointerBytes': 'AAABAAAAADAAImV4YW1wbGV...</td>\n",
       "      <td>{'eventPointerBytes': 'AAABAAAAADAAImV4YW1wbGV...</td>\n",
       "    </tr>\n",
       "    <tr>\n",
       "      <th>chunkIndex</th>\n",
       "      <td>0</td>\n",
       "      <td>0</td>\n",
       "    </tr>\n",
       "    <tr>\n",
       "      <th>finalChunkIndex</th>\n",
       "      <td>0</td>\n",
       "      <td>0</td>\n",
       "    </tr>\n",
       "    <tr>\n",
       "      <th>to_stream_cut</th>\n",
       "      <td>H4sIAAAAAAAAAA3FwQ2AIAwAwIUgllJI6DYqfWA0JVqM48...</td>\n",
       "      <td>H4sIAAAAAAAAAA3FUQ5AMAwA0Att0dU61dtg/SCkCyWOz/...</td>\n",
       "    </tr>\n",
       "    <tr>\n",
       "      <th>event_pointer</th>\n",
       "      <td>AAABAAAAAD8AMWV4YW1wbGVzL29iamVjdC1kZXRlY3Rvci...</td>\n",
       "      <td>AAABAAAAAD8AMWV4YW1wbGVzL29iamVjdC1kZXRlY3Rvci...</td>\n",
       "    </tr>\n",
       "    <tr>\n",
       "      <th>from_stream_cut</th>\n",
       "      <td>H4sIAAAAAAAAAA3FwQ2AIAwAwIVoLFQwdBuFPjSaEi3G8e...</td>\n",
       "      <td>H4sIAAAAAAAAAA3FwQ2AIAwAwIUgtgUUu41KHxpNiRbj+H...</td>\n",
       "    </tr>\n",
       "  </tbody>\n",
       "</table>\n",
       "</div>"
      ],
      "text/plain": [
       "timestamp                             2020-04-21 18:55:05.344000+00:00  \\\n",
       "camera                                                               2   \n",
       "ssrc                                                                 0   \n",
       "frameNumber                                                          0   \n",
       "hash                                                              None   \n",
       "tags                                                              None   \n",
       "kittiSensorReadings                                               None   \n",
       "recognitions         [{'id': 6, 'title': 'car', 'confidence': 0.372...   \n",
       "sourceEventPointer   {'eventPointerBytes': 'AAABAAAAADAAImV4YW1wbGV...   \n",
       "chunkIndex                                                           0   \n",
       "finalChunkIndex                                                      0   \n",
       "to_stream_cut        H4sIAAAAAAAAAA3FwQ2AIAwAwIUgllJI6DYqfWA0JVqM48...   \n",
       "event_pointer        AAABAAAAAD8AMWV4YW1wbGVzL29iamVjdC1kZXRlY3Rvci...   \n",
       "from_stream_cut      H4sIAAAAAAAAAA3FwQ2AIAwAwIVoLFQwdBuFPjSaEi3G8e...   \n",
       "\n",
       "timestamp                             2020-04-21 19:23:55.985000+00:00  \n",
       "camera                                                               0  \n",
       "ssrc                                                                 0  \n",
       "frameNumber                                                        645  \n",
       "hash                                                              None  \n",
       "tags                                                              None  \n",
       "kittiSensorReadings                                               None  \n",
       "recognitions         [{'id': 14, 'title': 'person', 'confidence': 0...  \n",
       "sourceEventPointer   {'eventPointerBytes': 'AAABAAAAADAAImV4YW1wbGV...  \n",
       "chunkIndex                                                           0  \n",
       "finalChunkIndex                                                      0  \n",
       "to_stream_cut        H4sIAAAAAAAAAA3FUQ5AMAwA0Att0dU61dtg/SCkCyWOz/...  \n",
       "event_pointer        AAABAAAAAD8AMWV4YW1wbGVzL29iamVjdC1kZXRlY3Rvci...  \n",
       "from_stream_cut      H4sIAAAAAAAAAA3FwQ2AIAwAwIUgtgUUu41KHxpNiRbj+H...  "
      ]
     },
     "execution_count": 8,
     "metadata": {},
     "output_type": "execute_result"
    }
   ],
   "source": [
    "indexed_stream.index_df.iloc[[0,-1]].T"
   ]
  },
  {
   "cell_type": "markdown",
   "metadata": {
    "jupyter": {
     "source_hidden": true
    }
   },
   "source": [
    "#### Clean recognitions"
   ]
  },
  {
   "cell_type": "code",
   "execution_count": 9,
   "metadata": {
    "collapsed": true,
    "jupyter": {
     "outputs_hidden": true,
     "source_hidden": true
    }
   },
   "outputs": [],
   "source": [
    "def clean_recognitions(recognitions):\n",
    "    return ','.join(np.unique([r['title'] for r in recognitions]))\n",
    "indexed_stream.index_df['recog'] = indexed_stream.index_df.recognitions.apply(clean_recognitions)"
   ]
  },
  {
   "cell_type": "markdown",
   "metadata": {
    "jupyter": {
     "source_hidden": true
    }
   },
   "source": [
    "### Video player with entire stream"
   ]
  },
  {
   "cell_type": "code",
   "execution_count": 10,
   "metadata": {
    "collapsed": true,
    "jupyter": {
     "outputs_hidden": true,
     "source_hidden": true
    }
   },
   "outputs": [],
   "source": [
    "#player = VideoPlayer(stream=indexed_stream).interact()"
   ]
  },
  {
   "cell_type": "markdown",
   "metadata": {
    "jupyter": {
     "source_hidden": true
    }
   },
   "source": [
    "### Filtered and sorted player"
   ]
  },
  {
   "cell_type": "code",
   "execution_count": null,
   "metadata": {
    "collapsed": true,
    "jupyter": {
     "outputs_hidden": true,
     "source_hidden": true
    }
   },
   "outputs": [],
   "source": [
    "#indexed_stream.index_df.camera.value_counts()"
   ]
  },
  {
   "cell_type": "code",
   "execution_count": null,
   "metadata": {
    "collapsed": true,
    "jupyter": {
     "outputs_hidden": true,
     "source_hidden": true
    }
   },
   "outputs": [],
   "source": [
    "#indexed_stream.index_df.recog.value_counts()"
   ]
  },
  {
   "cell_type": "code",
   "execution_count": 12,
   "metadata": {},
   "outputs": [
    {
     "data": {
      "text/html": [
       "<div>\n",
       "<style scoped>\n",
       "    .dataframe tbody tr th:only-of-type {\n",
       "        vertical-align: middle;\n",
       "    }\n",
       "\n",
       "    .dataframe tbody tr th {\n",
       "        vertical-align: top;\n",
       "    }\n",
       "\n",
       "    .dataframe thead th {\n",
       "        text-align: right;\n",
       "    }\n",
       "</style>\n",
       "<table border=\"1\" class=\"dataframe\">\n",
       "  <thead>\n",
       "    <tr style=\"text-align: right;\">\n",
       "      <th></th>\n",
       "      <th>camera</th>\n",
       "      <th>0</th>\n",
       "      <th>1</th>\n",
       "      <th>2</th>\n",
       "      <th>3</th>\n",
       "      <th>4</th>\n",
       "      <th>5</th>\n",
       "      <th>6</th>\n",
       "      <th>7</th>\n",
       "    </tr>\n",
       "    <tr>\n",
       "      <th></th>\n",
       "      <th>recog</th>\n",
       "      <th></th>\n",
       "      <th></th>\n",
       "      <th></th>\n",
       "      <th></th>\n",
       "      <th></th>\n",
       "      <th></th>\n",
       "      <th></th>\n",
       "      <th></th>\n",
       "    </tr>\n",
       "  </thead>\n",
       "  <tbody>\n",
       "    <tr>\n",
       "      <th rowspan=\"20\" valign=\"top\">0</th>\n",
       "      <th></th>\n",
       "      <td>5</td>\n",
       "      <td>40</td>\n",
       "      <td>8</td>\n",
       "      <td>15</td>\n",
       "      <td>-</td>\n",
       "      <td>100</td>\n",
       "      <td>37</td>\n",
       "      <td>3</td>\n",
       "    </tr>\n",
       "    <tr>\n",
       "      <th>aeroplane,car,person</th>\n",
       "      <td>-</td>\n",
       "      <td>-</td>\n",
       "      <td>3</td>\n",
       "      <td>-</td>\n",
       "      <td>-</td>\n",
       "      <td>-</td>\n",
       "      <td>-</td>\n",
       "      <td>-</td>\n",
       "    </tr>\n",
       "    <tr>\n",
       "      <th>bicycle</th>\n",
       "      <td>23</td>\n",
       "      <td>-</td>\n",
       "      <td>3</td>\n",
       "      <td>-</td>\n",
       "      <td>-</td>\n",
       "      <td>-</td>\n",
       "      <td>-</td>\n",
       "      <td>-</td>\n",
       "    </tr>\n",
       "    <tr>\n",
       "      <th>bicycle,boat,person</th>\n",
       "      <td>2</td>\n",
       "      <td>-</td>\n",
       "      <td>-</td>\n",
       "      <td>-</td>\n",
       "      <td>-</td>\n",
       "      <td>-</td>\n",
       "      <td>-</td>\n",
       "      <td>-</td>\n",
       "    </tr>\n",
       "    <tr>\n",
       "      <th>bicycle,bottle</th>\n",
       "      <td>2</td>\n",
       "      <td>-</td>\n",
       "      <td>-</td>\n",
       "      <td>-</td>\n",
       "      <td>-</td>\n",
       "      <td>-</td>\n",
       "      <td>-</td>\n",
       "      <td>-</td>\n",
       "    </tr>\n",
       "    <tr>\n",
       "      <th>bicycle,bottle,chair,person</th>\n",
       "      <td>1</td>\n",
       "      <td>-</td>\n",
       "      <td>-</td>\n",
       "      <td>-</td>\n",
       "      <td>-</td>\n",
       "      <td>-</td>\n",
       "      <td>-</td>\n",
       "      <td>-</td>\n",
       "    </tr>\n",
       "    <tr>\n",
       "      <th>bicycle,bottle,person</th>\n",
       "      <td>6</td>\n",
       "      <td>-</td>\n",
       "      <td>-</td>\n",
       "      <td>-</td>\n",
       "      <td>-</td>\n",
       "      <td>-</td>\n",
       "      <td>-</td>\n",
       "      <td>-</td>\n",
       "    </tr>\n",
       "    <tr>\n",
       "      <th>bicycle,bus</th>\n",
       "      <td>-</td>\n",
       "      <td>-</td>\n",
       "      <td>-</td>\n",
       "      <td>-</td>\n",
       "      <td>32</td>\n",
       "      <td>-</td>\n",
       "      <td>-</td>\n",
       "      <td>-</td>\n",
       "    </tr>\n",
       "    <tr>\n",
       "      <th>bicycle,bus,car</th>\n",
       "      <td>-</td>\n",
       "      <td>-</td>\n",
       "      <td>-</td>\n",
       "      <td>-</td>\n",
       "      <td>16</td>\n",
       "      <td>-</td>\n",
       "      <td>-</td>\n",
       "      <td>-</td>\n",
       "    </tr>\n",
       "    <tr>\n",
       "      <th>bicycle,bus,car,person</th>\n",
       "      <td>-</td>\n",
       "      <td>-</td>\n",
       "      <td>-</td>\n",
       "      <td>-</td>\n",
       "      <td>24</td>\n",
       "      <td>-</td>\n",
       "      <td>-</td>\n",
       "      <td>-</td>\n",
       "    </tr>\n",
       "    <tr>\n",
       "      <th>bicycle,bus,motorbike,person</th>\n",
       "      <td>4</td>\n",
       "      <td>-</td>\n",
       "      <td>-</td>\n",
       "      <td>-</td>\n",
       "      <td>16</td>\n",
       "      <td>-</td>\n",
       "      <td>-</td>\n",
       "      <td>-</td>\n",
       "    </tr>\n",
       "    <tr>\n",
       "      <th>bicycle,bus,person</th>\n",
       "      <td>8</td>\n",
       "      <td>-</td>\n",
       "      <td>-</td>\n",
       "      <td>-</td>\n",
       "      <td>112</td>\n",
       "      <td>-</td>\n",
       "      <td>-</td>\n",
       "      <td>-</td>\n",
       "    </tr>\n",
       "    <tr>\n",
       "      <th>bicycle,car</th>\n",
       "      <td>8</td>\n",
       "      <td>-</td>\n",
       "      <td>-</td>\n",
       "      <td>-</td>\n",
       "      <td>8</td>\n",
       "      <td>10</td>\n",
       "      <td>-</td>\n",
       "      <td>3</td>\n",
       "    </tr>\n",
       "    <tr>\n",
       "      <th>bicycle,car,chair,person</th>\n",
       "      <td>6</td>\n",
       "      <td>-</td>\n",
       "      <td>-</td>\n",
       "      <td>-</td>\n",
       "      <td>-</td>\n",
       "      <td>-</td>\n",
       "      <td>-</td>\n",
       "      <td>-</td>\n",
       "    </tr>\n",
       "    <tr>\n",
       "      <th>bicycle,car,chair,person,train</th>\n",
       "      <td>2</td>\n",
       "      <td>-</td>\n",
       "      <td>-</td>\n",
       "      <td>-</td>\n",
       "      <td>-</td>\n",
       "      <td>-</td>\n",
       "      <td>-</td>\n",
       "      <td>-</td>\n",
       "    </tr>\n",
       "    <tr>\n",
       "      <th>bicycle,car,chair,person,tvmonitor</th>\n",
       "      <td>2</td>\n",
       "      <td>-</td>\n",
       "      <td>-</td>\n",
       "      <td>-</td>\n",
       "      <td>-</td>\n",
       "      <td>-</td>\n",
       "      <td>-</td>\n",
       "      <td>-</td>\n",
       "    </tr>\n",
       "    <tr>\n",
       "      <th>bicycle,car,motorbike,person</th>\n",
       "      <td>8</td>\n",
       "      <td>-</td>\n",
       "      <td>-</td>\n",
       "      <td>-</td>\n",
       "      <td>-</td>\n",
       "      <td>-</td>\n",
       "      <td>-</td>\n",
       "      <td>-</td>\n",
       "    </tr>\n",
       "    <tr>\n",
       "      <th>bicycle,car,motorbike,person,train</th>\n",
       "      <td>2</td>\n",
       "      <td>-</td>\n",
       "      <td>-</td>\n",
       "      <td>-</td>\n",
       "      <td>-</td>\n",
       "      <td>-</td>\n",
       "      <td>-</td>\n",
       "      <td>-</td>\n",
       "    </tr>\n",
       "    <tr>\n",
       "      <th>bicycle,car,motorbike,pottedplant</th>\n",
       "      <td>1</td>\n",
       "      <td>-</td>\n",
       "      <td>-</td>\n",
       "      <td>-</td>\n",
       "      <td>-</td>\n",
       "      <td>-</td>\n",
       "      <td>-</td>\n",
       "      <td>-</td>\n",
       "    </tr>\n",
       "    <tr>\n",
       "      <th>bicycle,car,person</th>\n",
       "      <td>35</td>\n",
       "      <td>-</td>\n",
       "      <td>6</td>\n",
       "      <td>-</td>\n",
       "      <td>63</td>\n",
       "      <td>-</td>\n",
       "      <td>4</td>\n",
       "      <td>3</td>\n",
       "    </tr>\n",
       "  </tbody>\n",
       "</table>\n",
       "</div>"
      ],
      "text/plain": [
       "camera                                 0   1  2   3    4    5   6  7\n",
       "  recog                                                             \n",
       "0                                      5  40  8  15    -  100  37  3\n",
       "  aeroplane,car,person                 -   -  3   -    -    -   -  -\n",
       "  bicycle                             23   -  3   -    -    -   -  -\n",
       "  bicycle,boat,person                  2   -  -   -    -    -   -  -\n",
       "  bicycle,bottle                       2   -  -   -    -    -   -  -\n",
       "  bicycle,bottle,chair,person          1   -  -   -    -    -   -  -\n",
       "  bicycle,bottle,person                6   -  -   -    -    -   -  -\n",
       "  bicycle,bus                          -   -  -   -   32    -   -  -\n",
       "  bicycle,bus,car                      -   -  -   -   16    -   -  -\n",
       "  bicycle,bus,car,person               -   -  -   -   24    -   -  -\n",
       "  bicycle,bus,motorbike,person         4   -  -   -   16    -   -  -\n",
       "  bicycle,bus,person                   8   -  -   -  112    -   -  -\n",
       "  bicycle,car                          8   -  -   -    8   10   -  3\n",
       "  bicycle,car,chair,person             6   -  -   -    -    -   -  -\n",
       "  bicycle,car,chair,person,train       2   -  -   -    -    -   -  -\n",
       "  bicycle,car,chair,person,tvmonitor   2   -  -   -    -    -   -  -\n",
       "  bicycle,car,motorbike,person         8   -  -   -    -    -   -  -\n",
       "  bicycle,car,motorbike,person,train   2   -  -   -    -    -   -  -\n",
       "  bicycle,car,motorbike,pottedplant    1   -  -   -    -    -   -  -\n",
       "  bicycle,car,person                  35   -  6   -   63    -   4  3"
      ]
     },
     "execution_count": 12,
     "metadata": {},
     "output_type": "execute_result"
    }
   ],
   "source": [
    "pd.DataFrame(indexed_stream.index_df.groupby(['camera','recog']).size()).unstack().fillna('-').T.head(20)"
   ]
  },
  {
   "cell_type": "code",
   "execution_count": null,
   "metadata": {
    "jupyter": {
     "source_hidden": true
    }
   },
   "outputs": [],
   "source": [
    "# df = indexed_stream.index_df.copy()\n",
    "#df = df[df.camera==0]\n",
    "#df = df[df.frameNumber.between(10,20)]\n",
    "#df = df[df.recog!='']\n",
    "# df = df[df.recog.str.contains('tvmonitor')]\n",
    "# df = df[df.recog.str.contains('person')]\n",
    "#df = df[df.recog.str.contains('pottedplant')]\n",
    "#df = df[df.recog.str.contains('bus,person')]\n",
    "# df = df[df.recog.str.contains('bus')]\n",
    "# df = df[df.recog.str.contains('train')]\n",
    "# df = df[df.recog.str.contains('chair')]\n",
    "#df = df[df.recog.str.contains('dog')]\n",
    "#df = df[df.recog.str.contains('sofa')]\n",
    "# df.camera.value_counts()"
   ]
  },
  {
   "cell_type": "code",
   "execution_count": 13,
   "metadata": {},
   "outputs": [
    {
     "data": {
      "text/plain": [
       "4    461\n",
       "5    380\n",
       "6    368\n",
       "0    219\n",
       "7    133\n",
       "3    106\n",
       "2    102\n",
       "1     84\n",
       "Name: camera, dtype: int64"
      ]
     },
     "execution_count": 13,
     "metadata": {},
     "output_type": "execute_result"
    }
   ],
   "source": [
    "df = indexed_stream.index_df.copy()\n",
    "df = df[df.recog.str.contains('bus')]\n",
    "df.camera.value_counts()"
   ]
  },
  {
   "cell_type": "code",
   "execution_count": 15,
   "metadata": {},
   "outputs": [
    {
     "data": {
      "application/vnd.jupyter.widget-view+json": {
       "model_id": "f4f72fa78f19493ca98f007101a86642",
       "version_major": 2,
       "version_minor": 0
      },
      "text/plain": [
       "VBox(children=(Button(description='▶', layout=Layout(width='4em'), style=ButtonStyle()), ToggleButton(value=Fa…"
      ]
     },
     "metadata": {},
     "output_type": "display_data"
    }
   ],
   "source": [
    "filtered_stream = copy(indexed_stream)\n",
    "filtered_stream.index_df = df\n",
    "VideoPlayer(stream=filtered_stream).interact()"
   ]
  },
  {
   "cell_type": "code",
   "execution_count": null,
   "metadata": {},
   "outputs": [],
   "source": []
  }
 ],
 "metadata": {
  "kernelspec": {
   "display_name": "Python 3",
   "language": "python",
   "name": "python3"
  },
  "language_info": {
   "codemirror_mode": {
    "name": "ipython",
    "version": 3
   },
   "file_extension": ".py",
   "mimetype": "text/x-python",
   "name": "python",
   "nbconvert_exporter": "python",
   "pygments_lexer": "ipython3",
   "version": "3.7.6"
  }
 },
 "nbformat": 4,
 "nbformat_minor": 4
}
