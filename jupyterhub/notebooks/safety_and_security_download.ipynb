{
 "cells": [
  {
   "cell_type": "markdown",
   "metadata": {},
   "source": [
    "# Download Pexel videos\n",
    "\n",
    "https://www.pexels.com/video/a-cargo-truck-maneuvering-turns-in-a-manufacturing-plant-2711276/"
   ]
  },
  {
   "cell_type": "code",
   "execution_count": null,
   "metadata": {},
   "outputs": [],
   "source": [
    "import os\n",
    "os.chdir('/home/jovyan/data-project/video-samples/data')"
   ]
  },
  {
   "cell_type": "code",
   "execution_count": null,
   "metadata": {},
   "outputs": [],
   "source": [
    "!wget -O a-cargo-truck-maneuvering-turns-in-a-manufacturing-plant-2711276.mpg https://www.pexels.com/video/2711276/download/"
   ]
  },
  {
   "cell_type": "code",
   "execution_count": null,
   "metadata": {},
   "outputs": [],
   "source": [
    "!wget -O drone-footage-of-a-manufacturing-plant-3061260.mpg https://www.pexels.com/video/3061260/download/"
   ]
  },
  {
   "cell_type": "code",
   "execution_count": null,
   "metadata": {},
   "outputs": [],
   "source": [
    "!wget -O drone-footage-of-a-city-s-business-district-2835994.mpg https://www.pexels.com/video/2835994/download/"
   ]
  },
  {
   "cell_type": "code",
   "execution_count": null,
   "metadata": {},
   "outputs": [],
   "source": [
    "!wget -O aerial-view-of-a-freeway-1472012.mpg https://www.pexels.com/video/1472012/download/"
   ]
  },
  {
   "cell_type": "code",
   "execution_count": null,
   "metadata": {},
   "outputs": [],
   "source": [
    "!wget -O rail-freight-trains-in-transit-4066355.mpg https://www.pexels.com/video/4066355/download/"
   ]
  },
  {
   "cell_type": "code",
   "execution_count": null,
   "metadata": {},
   "outputs": [],
   "source": [
    "!wget -O traffic-intersection-4188267.mpg https://www.pexels.com/video/4188267/download/"
   ]
  },
  {
   "cell_type": "code",
   "execution_count": null,
   "metadata": {},
   "outputs": [],
   "source": [
    "!wget -O aerial-view-of-bridge-and-river-2292093.mpg https://www.pexels.com/video/2292093/download/"
   ]
  },
  {
   "cell_type": "code",
   "execution_count": null,
   "metadata": {},
   "outputs": [],
   "source": [
    "!wget -O tollway-system-in-a-multi-lane-expressway-3324160.mpg https://www.pexels.com/video/3324160/download/"
   ]
  },
  {
   "cell_type": "code",
   "execution_count": null,
   "metadata": {},
   "outputs": [],
   "source": [
    "!wget -O aerial-footage-of-vehicular-traffic-of-a-busy-street-intersection-at-night-3048225.mpg https://www.pexels.com/video/3048225/download/"
   ]
  },
  {
   "cell_type": "code",
   "execution_count": null,
   "metadata": {},
   "outputs": [],
   "source": [
    "!wget -O people-walking-on-the-street-of-a-shopping-center-3283572.mpg https://www.pexels.com/video/3283572/download/"
   ]
  },
  {
   "cell_type": "markdown",
   "metadata": {},
   "source": [
    "# Download VIRAT Video Dataset\n",
    "\n",
    "Download video files from the [VIRAT Video Dataset](https://viratdata.org/) and the [MEVA Video Dataset](http://mevadata.org/)."
   ]
  },
  {
   "cell_type": "code",
   "execution_count": null,
   "metadata": {},
   "outputs": [],
   "source": [
    "!mkdir -p /home/jovyan/data-project/video-samples/data/virat/aerial"
   ]
  },
  {
   "cell_type": "code",
   "execution_count": null,
   "metadata": {},
   "outputs": [],
   "source": [
    "import os\n",
    "os.chdir('/home/jovyan/data-project/video-samples/data/virat/aerial')"
   ]
  },
  {
   "cell_type": "code",
   "execution_count": null,
   "metadata": {},
   "outputs": [],
   "source": [
    "!wget -O 09152008flight2tape1_10.mpg https://data.kitware.com/api/v1/file/56f57fca8d777f753209c719/download"
   ]
  },
  {
   "cell_type": "code",
   "execution_count": null,
   "metadata": {},
   "outputs": [],
   "source": [
    "!wget -O 09172008flight1tape1_5.mpg https://data.kitware.com/api/v1/file/56f581528d777f753209c75b/download"
   ]
  },
  {
   "cell_type": "code",
   "execution_count": null,
   "metadata": {},
   "outputs": [],
   "source": [
    "!wget -O 09152008flight2tape3_1.mpg https://data.kitware.com/api/v1/file/56f580a38d777f753209c73d/download"
   ]
  },
  {
   "cell_type": "code",
   "execution_count": null,
   "metadata": {},
   "outputs": [],
   "source": [
    "!wget -O 09152008flight2tape1_7.mpg https://data.kitware.com/api/v1/file/56f580258d777f753209c728/download"
   ]
  },
  {
   "cell_type": "code",
   "execution_count": null,
   "metadata": {},
   "outputs": [],
   "source": [
    "!mkdir -p /home/jovyan/data-project/video-samples/data/virat/ground"
   ]
  },
  {
   "cell_type": "code",
   "execution_count": null,
   "metadata": {},
   "outputs": [],
   "source": [
    "import os\n",
    "os.chdir('/home/jovyan/data-project/video-samples/data/virat/ground')"
   ]
  },
  {
   "cell_type": "code",
   "execution_count": null,
   "metadata": {},
   "outputs": [],
   "source": [
    "!wget -O VIRAT_S_000200_01_000226_000268.mp4 https://data.kitware.com/api/v1/file/56f585298d777f753209ca5e/download"
   ]
  },
  {
   "cell_type": "code",
   "execution_count": null,
   "metadata": {},
   "outputs": [],
   "source": [
    "!wget -O VIRAT_S_000201_08_001652_001838.mp4 https://data.kitware.com/api/v1/file/56f5863a8d777f753209ca88/download"
   ]
  },
  {
   "cell_type": "code",
   "execution_count": null,
   "metadata": {},
   "outputs": [],
   "source": [
    "!wget -O VIRAT_S_000205_03_000860_000922.mp4 https://data.kitware.com/api/v1/file/56f5871e8d777f753209caac/download"
   ]
  },
  {
   "cell_type": "code",
   "execution_count": null,
   "metadata": {},
   "outputs": [],
   "source": []
  }
 ],
 "metadata": {
  "kernelspec": {
   "display_name": "Python 3",
   "language": "python",
   "name": "python3"
  },
  "language_info": {
   "codemirror_mode": {
    "name": "ipython",
    "version": 3
   },
   "file_extension": ".py",
   "mimetype": "text/x-python",
   "name": "python",
   "nbconvert_exporter": "python",
   "pygments_lexer": "ipython3",
   "version": "3.7.6"
  }
 },
 "nbformat": 4,
 "nbformat_minor": 4
}
