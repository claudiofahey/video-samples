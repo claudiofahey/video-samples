{
 "cells": [
  {
   "cell_type": "code",
   "execution_count": 3,
   "metadata": {},
   "outputs": [],
   "source": [
    "import cv2\n",
    "import glob\n",
    "import itertools\n",
    "import os\n",
    "from pathlib import Path"
   ]
  },
  {
   "cell_type": "code",
   "execution_count": 25,
   "metadata": {},
   "outputs": [],
   "source": [
    "input_filespecs = [\n",
    "#     '../../data/virat/ground/VIRAT_S_000201_08_001652_001838.mp4',\n",
    "#     '../../data/virat/ground/VIRAT_S_000200_01_000226_000268.mp4'\n",
    "    '../../data/virat/aerial/*.mpg',\n",
    "    '../../data/virat/ground/*.mp4',\n",
    "]"
   ]
  },
  {
   "cell_type": "code",
   "execution_count": 28,
   "metadata": {},
   "outputs": [],
   "source": [
    "def transcode(input_filename, quality=50, skip_if_exists=True):\n",
    "    output_dir = Path(input_filename).with_suffix('')\n",
    "    print(f'{input_filename} -> {output_dir}')    \n",
    "    if skip_if_exists and output_dir.exists():\n",
    "        print('Output directory already exists. Skipping.')\n",
    "        return\n",
    "    vidcap = cv2.VideoCapture(input_filename)\n",
    "    output_dir.mkdir(exist_ok=True)\n",
    "    frame_number = 0\n",
    "    while True:\n",
    "        success, image = vidcap.read()\n",
    "        if not success:\n",
    "            break\n",
    "        output_filename = output_dir / ('%08d.jpg' % frame_number)\n",
    "        print(f'{output_filename}', end='\\r')\n",
    "        cv2.imwrite(str(output_filename), image, [int(cv2.IMWRITE_JPEG_QUALITY), quality])\n",
    "        frame_number += 1\n",
    "    print('')"
   ]
  },
  {
   "cell_type": "code",
   "execution_count": 29,
   "metadata": {},
   "outputs": [
    {
     "name": "stdout",
     "output_type": "stream",
     "text": [
      "../../data/virat/aerial/09152008flight2tape1_1.mpg -> ../../data/virat/aerial/09152008flight2tape1_1\n",
      "../../data/virat/aerial/09152008flight2tape1_1/00008991.jpg\n",
      "../../data/virat/aerial/09152008flight2tape1_10.mpg -> ../../data/virat/aerial/09152008flight2tape1_10\n",
      "Output directory already exists. Skipping.\n",
      "../../data/virat/aerial/09152008flight2tape1_2.mpg -> ../../data/virat/aerial/09152008flight2tape1_2\n",
      "../../data/virat/aerial/09152008flight2tape1_2/00009290.jpg\n",
      "../../data/virat/aerial/09152008flight2tape1_3.mpg -> ../../data/virat/aerial/09152008flight2tape1_3\n",
      "../../data/virat/aerial/09152008flight2tape1_3/00009290.jpg\n",
      "../../data/virat/aerial/09152008flight2tape1_5.mpg -> ../../data/virat/aerial/09152008flight2tape1_5\n",
      "../../data/virat/aerial/09152008flight2tape1_5/00009290.jpg\n",
      "../../data/virat/aerial/09152008flight2tape1_6.mpg -> ../../data/virat/aerial/09152008flight2tape1_6\n",
      "../../data/virat/aerial/09152008flight2tape1_6/00009290.jpg\n",
      "../../data/virat/aerial/09152008flight2tape1_7.mpg -> ../../data/virat/aerial/09152008flight2tape1_7\n",
      "Output directory already exists. Skipping.\n",
      "../../data/virat/aerial/09152008flight2tape2_1.mpg -> ../../data/virat/aerial/09152008flight2tape2_1\n",
      "../../data/virat/aerial/09152008flight2tape2_1/00008991.jpg\n",
      "../../data/virat/aerial/09152008flight2tape2_2.mpg -> ../../data/virat/aerial/09152008flight2tape2_2\n",
      "../../data/virat/aerial/09152008flight2tape2_2/00009290.jpg\n",
      "../../data/virat/aerial/09152008flight2tape2_4.mpg -> ../../data/virat/aerial/09152008flight2tape2_4\n",
      "../../data/virat/aerial/09152008flight2tape2_4/00009290.jpg\n",
      "../../data/virat/aerial/09152008flight2tape2_8.mpg -> ../../data/virat/aerial/09152008flight2tape2_8\n",
      "../../data/virat/aerial/09152008flight2tape2_8/00009290.jpg\n",
      "../../data/virat/aerial/09152008flight2tape2_9.mpg -> ../../data/virat/aerial/09152008flight2tape2_9\n",
      "../../data/virat/aerial/09152008flight2tape2_9/00009290.jpg\n",
      "../../data/virat/aerial/09152008flight2tape3_1.mpg -> ../../data/virat/aerial/09152008flight2tape3_1\n",
      "../../data/virat/aerial/09152008flight2tape3_1/00008991.jpg\n",
      "../../data/virat/aerial/09152008flight2tape3_2.mpg -> ../../data/virat/aerial/09152008flight2tape3_2\n",
      "Output directory already exists. Skipping.\n",
      "../../data/virat/aerial/09162008flight1tape1_1.mpg -> ../../data/virat/aerial/09162008flight1tape1_1\n",
      "../../data/virat/aerial/09162008flight1tape1_1/00008991.jpg\n",
      "../../data/virat/aerial/09162008flight1tape1_2.mpg -> ../../data/virat/aerial/09162008flight1tape1_2\n",
      "../../data/virat/aerial/09162008flight1tape1_2/00009290.jpg\n",
      "../../data/virat/aerial/09162008flight1tape1_3.mpg -> ../../data/virat/aerial/09162008flight1tape1_3\n",
      "../../data/virat/aerial/09162008flight1tape1_3/00009290.jpg\n",
      "../../data/virat/aerial/09162008flight1tape1_5.mpg -> ../../data/virat/aerial/09162008flight1tape1_5\n",
      "../../data/virat/aerial/09162008flight1tape1_5/00009290.jpg\n",
      "../../data/virat/aerial/09172008flight1tape1_5.mpg -> ../../data/virat/aerial/09172008flight1tape1_5\n",
      "Output directory already exists. Skipping.\n",
      "../../data/virat/ground/VIRAT_S_000001.mp4 -> ../../data/virat/ground/VIRAT_S_000001\n",
      "Output directory already exists. Skipping.\n",
      "../../data/virat/ground/VIRAT_S_000002.mp4 -> ../../data/virat/ground/VIRAT_S_000002\n",
      "Output directory already exists. Skipping.\n",
      "../../data/virat/ground/VIRAT_S_000003.mp4 -> ../../data/virat/ground/VIRAT_S_000003\n",
      "Output directory already exists. Skipping.\n",
      "../../data/virat/ground/VIRAT_S_000004.mp4 -> ../../data/virat/ground/VIRAT_S_000004\n",
      "Output directory already exists. Skipping.\n",
      "../../data/virat/ground/VIRAT_S_000006.mp4 -> ../../data/virat/ground/VIRAT_S_000006\n",
      "Output directory already exists. Skipping.\n",
      "../../data/virat/ground/VIRAT_S_000102.mp4 -> ../../data/virat/ground/VIRAT_S_000102\n",
      "Output directory already exists. Skipping.\n",
      "../../data/virat/ground/VIRAT_S_000200_01_000226_000268.mp4 -> ../../data/virat/ground/VIRAT_S_000200_01_000226_000268\n",
      "Output directory already exists. Skipping.\n",
      "../../data/virat/ground/VIRAT_S_000201_00_000018_000380.mp4 -> ../../data/virat/ground/VIRAT_S_000201_00_000018_000380\n",
      "Output directory already exists. Skipping.\n",
      "../../data/virat/ground/VIRAT_S_000201_08_001652_001838.mp4 -> ../../data/virat/ground/VIRAT_S_000201_08_001652_001838\n",
      "Output directory already exists. Skipping.\n",
      "../../data/virat/ground/VIRAT_S_000202_00_000000_000977.mp4 -> ../../data/virat/ground/VIRAT_S_000202_00_000000_000977\n",
      "Output directory already exists. Skipping.\n",
      "../../data/virat/ground/VIRAT_S_000205_00_000065_000149.mp4 -> ../../data/virat/ground/VIRAT_S_000205_00_000065_000149\n",
      "Output directory already exists. Skipping.\n",
      "../../data/virat/ground/VIRAT_S_010000_00_000000_000165.mp4 -> ../../data/virat/ground/VIRAT_S_010000_00_000000_000165\n",
      "Output directory already exists. Skipping.\n",
      "../../data/virat/ground/VIRAT_S_010001_00_000019_000065.mp4 -> ../../data/virat/ground/VIRAT_S_010001_00_000019_000065\n",
      "Output directory already exists. Skipping.\n",
      "../../data/virat/ground/VIRAT_S_010002_00_000012_000120.mp4 -> ../../data/virat/ground/VIRAT_S_010002_00_000012_000120\n",
      "Output directory already exists. Skipping.\n",
      "../../data/virat/ground/VIRAT_S_010003_00_000000_000108.mp4 -> ../../data/virat/ground/VIRAT_S_010003_00_000000_000108\n",
      "Output directory already exists. Skipping.\n",
      "../../data/virat/ground/VIRAT_S_010004_06_000547_000715.mp4 -> ../../data/virat/ground/VIRAT_S_010004_06_000547_000715\n",
      "Output directory already exists. Skipping.\n",
      "../../data/virat/ground/VIRAT_S_010107_00_000019_000057.mp4 -> ../../data/virat/ground/VIRAT_S_010107_00_000019_000057\n",
      "Output directory already exists. Skipping.\n",
      "../../data/virat/ground/VIRAT_S_010201_07_000601_000697.mp4 -> ../../data/virat/ground/VIRAT_S_010201_07_000601_000697\n",
      "Output directory already exists. Skipping.\n",
      "../../data/virat/ground/VIRAT_S_040000_00_000063_000085.mp4 -> ../../data/virat/ground/VIRAT_S_040000_00_000063_000085\n",
      "Output directory already exists. Skipping.\n",
      "../../data/virat/ground/VIRAT_S_050201_07_001348_001458.mp4 -> ../../data/virat/ground/VIRAT_S_050201_07_001348_001458\n",
      "Output directory already exists. Skipping.\n",
      "../../data/virat/ground/VIRAT_S_050203_07_001288_001531.mp4 -> ../../data/virat/ground/VIRAT_S_050203_07_001288_001531\n",
      "Output directory already exists. Skipping.\n",
      "../../data/virat/ground/VIRAT_S_050300_01_000148_000396.mp4 -> ../../data/virat/ground/VIRAT_S_050300_01_000148_000396\n",
      "Output directory already exists. Skipping.\n",
      "../../data/virat/ground/VIRAT_S_050301_03_000933_001046.mp4 -> ../../data/virat/ground/VIRAT_S_050301_03_000933_001046\n",
      "Output directory already exists. Skipping.\n"
     ]
    }
   ],
   "source": [
    "for input_filespec in input_filespecs:\n",
    "    for input_filename in sorted(glob.glob(input_filespec)):\n",
    "        transcode(input_filename)"
   ]
  },
  {
   "cell_type": "code",
   "execution_count": null,
   "metadata": {},
   "outputs": [],
   "source": []
  }
 ],
 "metadata": {
  "kernelspec": {
   "display_name": "Python 3",
   "language": "python",
   "name": "python3"
  },
  "language_info": {
   "codemirror_mode": {
    "name": "ipython",
    "version": 3
   },
   "file_extension": ".py",
   "mimetype": "text/x-python",
   "name": "python",
   "nbconvert_exporter": "python",
   "pygments_lexer": "ipython3",
   "version": "3.7.6"
  }
 },
 "nbformat": 4,
 "nbformat_minor": 4
}
