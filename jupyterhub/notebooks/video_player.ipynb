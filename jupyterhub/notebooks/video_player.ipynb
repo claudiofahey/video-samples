{
 "cells": [
  {
   "cell_type": "markdown",
   "metadata": {},
   "source": [
    "---\n",
    "# Demo Use Case - Object Detection and Video Player (Part 2)\n",
    "\n",
    "The raw video is now being continuously ingested into SDP.\n",
    "\n",
    "As each video frame is ingested, the object detection model is used to detect objects such as cars, buses, and people.\n",
    "The object detection model runs as a Flink job in SDP. It uses the popular YOLO (You Only Look Once) object detection model.\n",
    "The Flink job uses Java bindings for TensorFlow and it uses GPUs to performance high speed deep learning inference.\n",
    "\n",
    "We use a cluster of 6 servers, each with an NVIDIA Tesla V100 GPU. These are used in parallel by our Flink job.\n",
    "\n",
    "See the [SDP UI](https://videodemo1.nautilus-lab-sulfur.com/).\n",
    "\n",
    "Now the data scientist wants to view the result of the object detection model in real-time.\n",
    "This is shown as a sequence of video frames with labeled boxes around detected objects.\n",
    "The images from all cameras is combined into the same SDP stream.\n",
    "Each image is tagged with the original camera number.\n",
    "\n",
    "---"
   ]
  },
  {
   "cell_type": "markdown",
   "metadata": {},
   "source": [
    "### Install dependencies\n",
    "\n",
    "See [install_dependencies.ipynb](install_dependencies.ipynb)."
   ]
  },
  {
   "cell_type": "markdown",
   "metadata": {},
   "source": [
    "### How to use this Notebook\n",
    "1. Click *Kernel* -> *Restart Kernel and Run All Cells*."
   ]
  },
  {
   "cell_type": "markdown",
   "metadata": {},
   "source": [
    "### Import dependencies"
   ]
  },
  {
   "cell_type": "code",
   "execution_count": null,
   "metadata": {},
   "outputs": [],
   "source": [
    "%load_ext autoreload\n",
    "%autoreload 2\n",
    "import grpc\n",
    "import imp\n",
    "import pravega.grpc_gateway as pravega\n",
    "import pravega.video as video\n",
    "from pravega.video import VideoPlayer\n",
    "import os"
   ]
  },
  {
   "cell_type": "markdown",
   "metadata": {},
   "source": [
    "### Define Pravega connection parameters"
   ]
  },
  {
   "cell_type": "code",
   "execution_count": null,
   "metadata": {},
   "outputs": [],
   "source": [
    "#gateway = os.environ['PRAVEGA_GRPC_GATEWAY_ADDRESS']\n",
    "#gateway = '10.246.27.131:54672'\n",
    "gateway = 'pravega-grpc-gateway.examples.frightful-four.eaglemonk.intranet.nautilus-platform-dev.com:80'\n",
    "scope = 'examples'\n",
    "#stream = 'object-detector-input-video'\n",
    "#stream = 'object-detector-output-video'\n",
    "#stream = 'generated-video'\n",
    "#stream = 'object-detector-input-grid-video'"
   ]
  },
  {
   "cell_type": "markdown",
   "metadata": {},
   "source": [
    "### Initialize connection to Pravega GRPC Gateway"
   ]
  },
  {
   "cell_type": "code",
   "execution_count": null,
   "metadata": {},
   "outputs": [],
   "source": [
    "pravega_channel = grpc.insecure_channel(gateway, options=[\n",
    "        ('grpc.max_receive_message_length', 9*1024*1024),\n",
    "    ])\n",
    "pravega_client = pravega.grpc.PravegaGatewayStub(pravega_channel)"
   ]
  },
  {
   "cell_type": "markdown",
   "metadata": {},
   "source": [
    "### About the timestamp index\n",
    "This is an index from timestamp to begin stream cut, end stream cut, and event pointer.\n",
    "This index is maintained by the job in [index_builder.ipynb](index_builder.ipynb).\n",
    "The video player uses the event pointer to fetch an individual frame. It uses the end stream cut to play from a particular frame."
   ]
  },
  {
   "cell_type": "markdown",
   "metadata": {},
   "source": [
    "### Video Player"
   ]
  },
  {
   "cell_type": "code",
   "execution_count": null,
   "metadata": {},
   "outputs": [],
   "source": [
    "imp.reload(video);\n",
    "import pravega.video as video\n",
    "from pravega.video import UnindexedStream, OutputStream, IndexedStream, opencv_image_to_mpl, VideoPlayer\n",
    "imp.reload(video);"
   ]
  },
  {
   "cell_type": "code",
   "execution_count": 5,
   "metadata": {},
   "outputs": [
    {
     "data": {
      "application/vnd.jupyter.widget-view+json": {
       "model_id": "2709f2f1e7b04f5a9406164bbe76e9fc",
       "version_major": 2,
       "version_minor": 0
      },
      "text/plain": [
       "VBox(children=(Button(description='▶', layout=Layout(width='4em'), style=ButtonStyle()), ToggleButton(value=Fa…"
      ]
     },
     "metadata": {},
     "output_type": "display_data"
    }
   ],
   "source": [
    "player = VideoPlayer(pravega_client=pravega_client, scope=scope)\n",
    "player.interact()"
   ]
  },
  {
   "cell_type": "code",
   "execution_count": null,
   "metadata": {},
   "outputs": [],
   "source": []
  }
 ],
 "metadata": {
  "kernelspec": {
   "display_name": "Python 3",
   "language": "python",
   "name": "python3"
  },
  "language_info": {
   "codemirror_mode": {
    "name": "ipython",
    "version": 3
   },
   "file_extension": ".py",
   "mimetype": "text/x-python",
   "name": "python",
   "nbconvert_exporter": "python",
   "pygments_lexer": "ipython3",
   "version": "3.7.6"
  }
 },
 "nbformat": 4,
 "nbformat_minor": 4
}
