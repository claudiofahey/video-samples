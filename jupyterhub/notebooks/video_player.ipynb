{
 "cells": [
  {
   "cell_type": "markdown",
   "metadata": {},
   "source": [
    "---\n",
    "# Demo Use Case - Object Detection and Video Player (Part 2)\n",
    "\n",
    "The raw video is now being continuously ingested into SDP.\n",
    "\n",
    "As each video frame is ingested, the object detection model is used to detect objects such as cars, buses, and people.\n",
    "The object detection model runs as a Flink job in SDP. It uses the popular YOLO (You Only Look Once) object detection model.\n",
    "The Flink job uses Java bindings for TensorFlow and it uses GPUs to performance high speed deep learning inference.\n",
    "\n",
    "We use a cluster of 6 servers, each with an NVIDIA Tesla V100 GPU. These are used in parallel by our Flink job.\n",
    "\n",
    "See the [SDP UI](https://videodemo1.nautilus-lab-sulfur.com/).\n",
    "\n",
    "Now the data scientist wants to view the result of the object detection model in real-time.\n",
    "This is shown as a sequence of video frames with labeled boxes around detected objects.\n",
    "The images from all cameras is combined into the same SDP stream.\n",
    "Each image is tagged with the original camera number.\n",
    "\n",
    "---"
   ]
  },
  {
   "cell_type": "markdown",
   "metadata": {},
   "source": [
    "### Install dependencies\n",
    "\n",
    "See [install_dependencies.ipynb](install_dependencies.ipynb)."
   ]
  },
  {
   "cell_type": "markdown",
   "metadata": {},
   "source": [
    "### How to use this Notebook\n",
    "1. Click *Kernel* -> *Restart Kernel and Run All Cells*."
   ]
  },
  {
   "cell_type": "markdown",
   "metadata": {},
   "source": [
    "### Import dependencies"
   ]
  },
  {
   "cell_type": "code",
   "execution_count": null,
   "metadata": {},
   "outputs": [],
   "source": [
    "%load_ext autoreload\n",
    "%autoreload 2\n",
    "\n",
    "import grpc\n",
    "import imp\n",
    "import pravega.grpc_gateway as pravega\n",
    "import pravega.video as video\n",
    "from pravega.video import UnindexedStream, OutputStream\n",
    "from matplotlib import pyplot as plt\n",
    "import IPython\n",
    "import os\n",
    "import ipywidgets\n",
    "from ipywidgets import Layout\n",
    "import numpy as np\n",
    "import pandas as pd\n",
    "import time\n",
    "\n",
    "imp.reload(video);"
   ]
  },
  {
   "cell_type": "markdown",
   "metadata": {},
   "source": [
    "### Define Pravega stream parameters"
   ]
  },
  {
   "cell_type": "code",
   "execution_count": null,
   "metadata": {},
   "outputs": [],
   "source": [
    "#gateway = os.environ['PRAVEGA_GRPC_GATEWAY_ADDRESS']\n",
    "#gateway = '10.246.27.131:54672'\n",
    "gateway = 'pravega-grpc-gateway.examples.frightful-four.eaglemonk.intranet.nautilus-platform-dev.com:80'\n",
    "scope = 'examples'\n",
    "#stream = 'object-detector-input-video'\n",
    "#stream = 'object-detector-output-video'\n",
    "#stream = 'generated-video'\n",
    "stream = 'object-detector-input-grid-video'"
   ]
  },
  {
   "cell_type": "markdown",
   "metadata": {},
   "source": [
    "### Initialize connection to Pravega GRPC Gateway"
   ]
  },
  {
   "cell_type": "code",
   "execution_count": null,
   "metadata": {},
   "outputs": [],
   "source": [
    "pravega_channel = grpc.insecure_channel(gateway, options=[\n",
    "        ('grpc.max_receive_message_length', 9*1024*1024),\n",
    "    ])\n",
    "pravega_client = pravega.grpc.PravegaGatewayStub(pravega_channel)"
   ]
  },
  {
   "cell_type": "markdown",
   "metadata": {},
   "source": [
    "### View the size of the video stream"
   ]
  },
  {
   "cell_type": "code",
   "execution_count": null,
   "metadata": {},
   "outputs": [],
   "source": [
    "unindexed_stream = UnindexedStream(pravega_client, scope, stream)"
   ]
  },
  {
   "cell_type": "code",
   "execution_count": null,
   "metadata": {},
   "outputs": [],
   "source": [
    "#unindexed_stream.truncate_stream()"
   ]
  },
  {
   "cell_type": "code",
   "execution_count": null,
   "metadata": {},
   "outputs": [],
   "source": [
    "stream_info = unindexed_stream.get_stream_info()\n",
    "stream_info"
   ]
  },
  {
   "cell_type": "code",
   "execution_count": null,
   "metadata": {},
   "outputs": [],
   "source": [
    "stream_size_MB = (list(stream_info.tail_stream_cut.cut.values())[0] - list(stream_info.head_stream_cut.cut.values())[0]) * 1e-6\n",
    "stream_size_MB"
   ]
  },
  {
   "cell_type": "code",
   "execution_count": null,
   "metadata": {},
   "outputs": [],
   "source": [
    "# def play_video(self, from_stream_cut=None, to_stream_cut=None, show_frame_interval=1,\n",
    "#                cameras=None, tz='America/Los_Angeles', strftime='%Y-%m-%d %I:%M:%S.%f %p %z', buffer_sec=0.0):\n",
    "#     \"\"\"Play a video from a Pravega stream using a Jupyter notebook.\"\"\"\n",
    "#     read_events = self.read_video_frames(from_stream_cut, to_stream_cut, cameras=cameras)\n",
    "#     header_output = ipywidgets.Output()\n",
    "#     body_output = ipywidgets.Output()\n",
    "#     IPython.display.display(header_output, body_output)\n",
    "#     for i, video_frame in enumerate(read_events):\n",
    "#         if i % show_frame_interval == 0:\n",
    "#             timestamp = video_frame['timestamp']\n",
    "#             sleep_sec = buffer_sec - (pd.Timestamp.utcnow() - timestamp).total_seconds()\n",
    "#             if sleep_sec > 0.0:\n",
    "#                 time.sleep(sleep_sec)\n",
    "#             dt = str(pd.Timestamp.utcnow() - timestamp)\n",
    "#             timestamp_value = '%s  (%s)' % (timestamp, timestamp.astimezone(tz).strftime(strftime))\n",
    "#             timestamp_widget = ipywidgets.Text(description='Timestamp', disabled=True, value=timestamp_value, layout=Layout(width='50%'))\n",
    "#             dt_widget = ipywidgets.Text(description='Age', disabled=True, value=dt, layout=Layout(width='25%'))\n",
    "#             camera_widget = ipywidgets.Text(description='Camera', disabled=True, value=str(video_frame['camera']), layout=Layout(width='15%'))    \n",
    "#             header_widget = ipywidgets.HBox([camera_widget, timestamp_widget, dt_widget])\n",
    "#             img_widget = IPython.display.Image(data=video_frame['data'])\n",
    "#             with header_output:\n",
    "#                 IPython.display.clear_output(wait=True)\n",
    "#                 IPython.display.display(header_widget)\n",
    "#             with body_output:\n",
    "#                 IPython.display.clear_output(wait=True)\n",
    "#                 IPython.display.display(img_widget)"
   ]
  },
  {
   "cell_type": "markdown",
   "metadata": {},
   "source": [
    "### Play video stream from the current time"
   ]
  },
  {
   "cell_type": "code",
   "execution_count": null,
   "metadata": {},
   "outputs": [],
   "source": [
    "stream_info = unindexed_stream.get_stream_info()\n",
    "from_stream_cut = stream_info.tail_stream_cut\n",
    "to_stream_cut = None\n",
    "unindexed_stream.play_video(from_stream_cut, to_stream_cut, cameras=[0,1000], show_frame_interval=1)"
   ]
  },
  {
   "cell_type": "markdown",
   "metadata": {},
   "source": [
    "# Play video stream from the earliest time"
   ]
  },
  {
   "cell_type": "code",
   "execution_count": null,
   "metadata": {},
   "outputs": [],
   "source": [
    "play_video(unindexed_stream, cameras=None)"
   ]
  },
  {
   "cell_type": "markdown",
   "metadata": {},
   "source": [
    "# Play video stream from the earliest time and stop at current time"
   ]
  },
  {
   "cell_type": "code",
   "execution_count": null,
   "metadata": {},
   "outputs": [],
   "source": [
    "stream_info = unindexed_stream.get_stream_info()\n",
    "from_stream_cut = stream_info.head_stream_cut\n",
    "to_stream_cut = stream_info.tail_stream_cut\n",
    "play_video(unindexed_stream, from_stream_cut, to_stream_cut, cameras=[0])"
   ]
  },
  {
   "cell_type": "markdown",
   "metadata": {},
   "source": [
    "# Play video stream from a stream cut"
   ]
  },
  {
   "cell_type": "code",
   "execution_count": null,
   "metadata": {},
   "outputs": [],
   "source": [
    "from_stream_cut_text = 'H4sIAAAAAAAAADOwSq1IzC3ISS3Wz0/KSk0u0U1JLQFS+UW6+aUlBaUlumWZKan5VgZAaGhoamJqYGxpYQIA+ZiLQTYAAAA='\n",
    "from_stream_cut = pravega.pb.StreamCut(text=from_stream_cut_text)\n",
    "to_stream_cut = None\n",
    "play_video(unindexed_stream, from_stream_cut, to_stream_cut, cameras=[0])"
   ]
  },
  {
   "cell_type": "markdown",
   "metadata": {},
   "source": [
    "# Playground"
   ]
  },
  {
   "cell_type": "code",
   "execution_count": null,
   "metadata": {},
   "outputs": [],
   "source": []
  }
 ],
 "metadata": {
  "kernelspec": {
   "display_name": "Python 3",
   "language": "python",
   "name": "python3"
  },
  "language_info": {
   "codemirror_mode": {
    "name": "ipython",
    "version": 3
   },
   "file_extension": ".py",
   "mimetype": "text/x-python",
   "name": "python",
   "nbconvert_exporter": "python",
   "pygments_lexer": "ipython3",
   "version": "3.7.6"
  }
 },
 "nbformat": 4,
 "nbformat_minor": 4
}
