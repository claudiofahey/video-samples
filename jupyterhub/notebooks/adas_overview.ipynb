{
 "cells": [
  {
   "cell_type": "markdown",
   "metadata": {},
   "source": [
    "---\n",
    "# Demo Use Case - ADAS\n",
    "\n",
    "![overview](adas_overview.png)\n",
    "\n",
    "A data scientist is part of a team developing an advanced driver-assistance system (ADAS).\n",
    "They continuously collect video, lidar, and other sensor data from their fleet of test vehicles.\n",
    "The data scientist wants to test a new object detection model on video collected today.\n",
    "\n",
    "The raw video is now being continuously ingested into SDP. \n",
    "As each video frame is ingested, the object detection model is used to detect objects such as cars, buses, and people.\n",
    "The object detection model runs as a Flink job in SDP. It uses the YOLO (You Only Look Once) object detection model.\n",
    "The Flink job uses Java bindings for TensorFlow and it uses GPUs to performance high speed deep learning inference.\n",
    "\n",
    "Now the data scientist wants to view the result of the object detection model in real-time.\n",
    "This is shown as a sequence of video frames with labeled boxes around detected objects.\n",
    "The images from all cameras is combined into the same SDP stream.\n",
    "Each image is tagged with the original camera number."
   ]
  },
  {
   "cell_type": "markdown",
   "metadata": {},
   "source": [
    "### About the video feeds\n",
    "\n",
    "- We simulate up to 8 simultaneous cameras from different vehicles.\n",
    "- Each video frame is 1242 x 374 pixels, RGB color, JPEG format.\n",
    "- JPEG image sizes average 50 KB.\n",
    "- Each camera records at 10 frames per second.\n",
    "- The total ingest rate is 5 MB/sec.\n",
    "\n",
    "---"
   ]
  },
  {
   "cell_type": "markdown",
   "metadata": {},
   "source": [
    "### How to use this notebook\n",
    "1. [Install dependencies](install_dependencies.ipynb).\n",
    "2. [adas_download.ipynb](adas_download.ipynb).\n",
    "3. [adas_transcode_from_png.ipynb](adas_transcode_from_png.ipynb).\n",
    "4. [Begin ingesting data](adas_ingest.ipynb).\n",
    "5. Run Flink job object-detector-job.\n",
    "6. [Run continuous index builder job](adas_index_builder.ipynb).\n",
    "7. Run video player. Click *Kernel* -> *Restart Kernel and Run All Cells*."
   ]
  },
  {
   "cell_type": "code",
   "execution_count": null,
   "metadata": {},
   "outputs": [],
   "source": [
    "#### Import dependencies\n",
    "%load_ext autoreload\n",
    "%autoreload 2\n",
    "import grpc\n",
    "import imp\n",
    "import pravega.grpc_gateway as pravega\n",
    "import pravega.video as video\n",
    "from pravega.video import VideoPlayer\n",
    "import os\n",
    "imp.reload(video);\n",
    "\n",
    "### Define Pravega stream parameters\n",
    "\n",
    "gateway = os.environ['PRAVEGA_GRPC_GATEWAY_ADDRESS']\n",
    "scope = 'examples'\n",
    "stream = 'object-detector-output-video'\n",
    "\n",
    "### Initialize connection to Pravega GRPC Gateway\n",
    "\n",
    "pravega_channel = grpc.insecure_channel(gateway, options=[\n",
    "        ('grpc.max_receive_message_length', 9*1024*1024),\n",
    "    ])\n",
    "pravega_client = pravega.grpc.PravegaGatewayStub(pravega_channel)"
   ]
  },
  {
   "cell_type": "markdown",
   "metadata": {},
   "source": [
    "---\n",
    "### Video Player"
   ]
  },
  {
   "cell_type": "code",
   "execution_count": null,
   "metadata": {},
   "outputs": [],
   "source": [
    "VideoPlayer(pravega_client=pravega_client, scope=scope, stream=stream).interact()"
   ]
  },
  {
   "cell_type": "code",
   "execution_count": null,
   "metadata": {},
   "outputs": [],
   "source": []
  }
 ],
 "metadata": {
  "kernelspec": {
   "display_name": "Python 3",
   "language": "python",
   "name": "python3"
  },
  "language_info": {
   "codemirror_mode": {
    "name": "ipython",
    "version": 3
   },
   "file_extension": ".py",
   "mimetype": "text/x-python",
   "name": "python",
   "nbconvert_exporter": "python",
   "pygments_lexer": "ipython3",
   "version": "3.7.6"
  }
 },
 "nbformat": 4,
 "nbformat_minor": 4
}
