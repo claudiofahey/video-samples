{
 "cells": [
  {
   "cell_type": "markdown",
   "metadata": {},
   "source": [
    "# Install dependencies\n",
    "\n",
    "See [install_dependencies.ipynb](install_dependencies.ipynb)."
   ]
  },
  {
   "cell_type": "markdown",
   "metadata": {},
   "source": [
    "# How to use this Notebook\n",
    "1. Click *Kernel* -> *Restart Kernel and Run All Cells*."
   ]
  },
  {
   "cell_type": "markdown",
   "metadata": {},
   "source": [
    "# Import dependencies"
   ]
  },
  {
   "cell_type": "code",
   "execution_count": null,
   "metadata": {},
   "outputs": [],
   "source": [
    "%load_ext autoreload\n",
    "%autoreload 2"
   ]
  },
  {
   "cell_type": "code",
   "execution_count": null,
   "metadata": {},
   "outputs": [],
   "source": [
    "import grpc\n",
    "import imp\n",
    "import pravega.grpc_gateway as pravega\n",
    "import pravega.video as video\n",
    "from pravega.video import UnindexedStream, OutputStream, opencv_image_to_mpl\n",
    "import cv2\n",
    "from matplotlib import pyplot as plt"
   ]
  },
  {
   "cell_type": "code",
   "execution_count": null,
   "metadata": {},
   "outputs": [],
   "source": [
    "imp.reload(video);"
   ]
  },
  {
   "cell_type": "markdown",
   "metadata": {},
   "source": [
    "# Define Pravega stream parameters"
   ]
  },
  {
   "cell_type": "code",
   "execution_count": null,
   "metadata": {},
   "outputs": [],
   "source": [
    "gateway = 'pravega-grpc-gateway:80'\n",
    "scope = 'examples'\n",
    "#stream = 'generated-video'\n",
    "stream = 'object-detector-input-video2'"
   ]
  },
  {
   "cell_type": "markdown",
   "metadata": {},
   "source": [
    "# Initialize connection to Pravega GRPC Gateway"
   ]
  },
  {
   "cell_type": "code",
   "execution_count": null,
   "metadata": {},
   "outputs": [],
   "source": [
    "pravega_channel = grpc.insecure_channel(gateway)\n",
    "pravega_client = pravega.grpc.PravegaGatewayStub(pravega_channel)"
   ]
  },
  {
   "cell_type": "markdown",
   "metadata": {},
   "source": [
    "# Copy from a video file to Pravega"
   ]
  },
  {
   "cell_type": "code",
   "execution_count": null,
   "metadata": {},
   "outputs": [],
   "source": [
    "# filename = '../../data/SampleVideo_1280x720_5mb.mp4'\n",
    "filename = 'DJI_0039.MP4'  # video with detected trucks\n",
    "# filename = '../../data/DJI_0023.MP4'  # \n",
    "output_stream = OutputStream(pravega_client, scope, stream)\n",
    "output_stream.create_stream()"
   ]
  },
  {
   "cell_type": "code",
   "execution_count": null,
   "metadata": {},
   "outputs": [],
   "source": [
    "#output_stream.truncate_stream()"
   ]
  },
  {
   "cell_type": "code",
   "execution_count": null,
   "metadata": {},
   "outputs": [],
   "source": [
    "# Crop images - left, top, right, bottom\n",
    "crop = [int(c) for c in [4096*1/6,2160*1/6,4096*5/6,2160*5/6]]\n",
    "#crop = None\n",
    "size = (600,400)\n",
    "fps = 8\n",
    "crop, size"
   ]
  },
  {
   "cell_type": "code",
   "execution_count": null,
   "metadata": {},
   "outputs": [],
   "source": [
    "%%time\n",
    "output_stream.write_video_from_file(filename, crop=crop, size=size, fps=fps)"
   ]
  },
  {
   "cell_type": "markdown",
   "metadata": {},
   "source": [
    "# Copy from a video file in a loop"
   ]
  },
  {
   "cell_type": "code",
   "execution_count": null,
   "metadata": {},
   "outputs": [],
   "source": [
    "%%time\n",
    "while True:\n",
    "    output_stream.write_video_from_file('DJI_0039.MP4', crop=[int(c) for c in [4096*1/6,2160*1/6,4096*5/6,2160*5/6]], size=(600,400), fps=8)\n",
    "    output_stream.write_video_from_file('DJI_0023.MP4', crop=[int(c) for c in [4096*1/6,2160*1/6,4096*5/6,2160*5/6]], size=(600,400), fps=8)\n",
    "    output_stream.write_video_from_file('cars.mp4', crop=None, size=(600,400), fps=8)\n",
    "    output_stream.write_video_from_file('Pexels Videos 2103099.mp4', crop=None, size=(600,400), fps=8)\n",
    "    output_stream.write_video_from_file('Tourist Crossing The Street.mp4', crop=None, size=(600,400), fps=8)\n",
    "    output_stream.write_video_from_file('video.mp4', crop=None, size=(600,400), fps=8)"
   ]
  },
  {
   "cell_type": "markdown",
   "metadata": {},
   "source": [
    "# Get head and tail stream cuts"
   ]
  },
  {
   "cell_type": "code",
   "execution_count": null,
   "metadata": {},
   "outputs": [],
   "source": [
    "unindexed_stream = UnindexedStream(pravega_client, scope, stream)\n",
    "stream_info = unindexed_stream.get_stream_info()\n",
    "stream_info"
   ]
  },
  {
   "cell_type": "code",
   "execution_count": null,
   "metadata": {},
   "outputs": [],
   "source": [
    "stream_size_MB = (list(stream_info.tail_stream_cut.cut.values())[0] - list(stream_info.head_stream_cut.cut.values())[0]) * 1e-6\n",
    "stream_size_MB"
   ]
  },
  {
   "cell_type": "markdown",
   "metadata": {},
   "source": [
    "# Playground"
   ]
  },
  {
   "cell_type": "code",
   "execution_count": null,
   "metadata": {},
   "outputs": [],
   "source": [
    "vidcap = cv2.VideoCapture(filename)\n",
    "video_frames = output_stream.opencv_video_frame_generator(vidcap)"
   ]
  },
  {
   "cell_type": "code",
   "execution_count": null,
   "metadata": {},
   "outputs": [],
   "source": [
    "vidcap.get(cv2.CAP_PROP_POS_FRAMES)"
   ]
  },
  {
   "cell_type": "code",
   "execution_count": null,
   "metadata": {},
   "outputs": [],
   "source": [
    "vidcap.get(cv2.CAP_PROP_FPS)"
   ]
  },
  {
   "cell_type": "code",
   "execution_count": null,
   "metadata": {},
   "outputs": [],
   "source": [
    "next(video_frames)['image'].shape"
   ]
  },
  {
   "cell_type": "code",
   "execution_count": null,
   "metadata": {},
   "outputs": [],
   "source": [
    "cropped_video_frames = (output_stream.cropped_video_frame(f, crop) for f in video_frames)\n",
    "resized_video_frames = (output_stream.resized_video_frame(f, size) for f in cropped_video_frames)\n",
    "events_to_write = output_stream.video_frame_write_generator(resized_video_frames)"
   ]
  },
  {
   "cell_type": "code",
   "execution_count": null,
   "metadata": {},
   "outputs": [],
   "source": [
    "img = next(resized_video_frames)['image']\n",
    "fig = plt.figure(figsize = (12,8))\n",
    "plt.imshow(opencv_image_to_mpl(img), interpolation='none');"
   ]
  },
  {
   "cell_type": "code",
   "execution_count": null,
   "metadata": {},
   "outputs": [],
   "source": [
    "# evt = next(events_to_write)\n",
    "# evt.event[0:100]"
   ]
  },
  {
   "cell_type": "code",
   "execution_count": null,
   "metadata": {},
   "outputs": [],
   "source": [
    "# len(next(events_to_write).event)"
   ]
  }
 ],
 "metadata": {
  "kernelspec": {
   "display_name": "Python 3",
   "language": "python",
   "name": "python3"
  },
  "language_info": {
   "codemirror_mode": {
    "name": "ipython",
    "version": 3
   },
   "file_extension": ".py",
   "mimetype": "text/x-python",
   "name": "python",
   "nbconvert_exporter": "python",
   "pygments_lexer": "ipython3",
   "version": "3.7.6"
  }
 },
 "nbformat": 4,
 "nbformat_minor": 4
}

