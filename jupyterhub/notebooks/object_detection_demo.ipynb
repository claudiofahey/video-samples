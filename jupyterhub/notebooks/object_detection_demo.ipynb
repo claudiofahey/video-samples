{
 "cells": [
  {
   "cell_type": "markdown",
   "metadata": {},
   "source": [
    "# Starting Jupyter\n",
    "- To run Jupyter in Kubernetes, run `deploy.sh`.\n",
    "- To run Jupyter directly in Docker, run `start_jupyter_docker.sh`."
   ]
  },
  {
   "cell_type": "markdown",
   "metadata": {},
   "source": [
    "# Install dependencies"
   ]
  },
  {
   "cell_type": "code",
   "execution_count": null,
   "metadata": {},
   "outputs": [],
   "source": [
    "!conda install -y opencv"
   ]
  },
  {
   "cell_type": "code",
   "execution_count": null,
   "metadata": {},
   "outputs": [],
   "source": [
    "!pip install grpcio"
   ]
  },
  {
   "cell_type": "code",
   "execution_count": null,
   "metadata": {},
   "outputs": [],
   "source": [
    "!pip uninstall -y pravega-grpc-gateway-client ; \\\n",
    "    rm -rf /tmp/pravega-grpc-gateway ; \\\n",
    "    git clone https://github.com/pravega/pravega-grpc-gateway /tmp/pravega-grpc-gateway && \\\n",
    "    cd /tmp/pravega-grpc-gateway && \\\n",
    "    git checkout master && \\\n",
    "    pip install pravega-grpc-gateway/src/main/python"
   ]
  },
  {
   "cell_type": "markdown",
   "metadata": {},
   "source": [
    "# Import dependencies"
   ]
  },
  {
   "cell_type": "code",
   "execution_count": null,
   "metadata": {},
   "outputs": [],
   "source": [
    "%load_ext autoreload\n",
    "%autoreload 2"
   ]
  },
  {
   "cell_type": "code",
   "execution_count": null,
   "metadata": {},
   "outputs": [],
   "source": [
    "from matplotlib import pyplot as plt\n",
    "import IPython\n",
    "import cv2\n",
    "import itertools\n",
    "import numpy as np\n",
    "import pandas as pd\n",
    "import grpc\n",
    "import json\n",
    "import base64\n",
    "import datetime\n",
    "import time\n",
    "import imp"
   ]
  },
  {
   "cell_type": "code",
   "execution_count": null,
   "metadata": {},
   "outputs": [],
   "source": [
    "import pravega.grpc_gateway as pravega\n",
    "import pravega.video as video\n",
    "from pravega.video import UnindexedStream"
   ]
  },
  {
   "cell_type": "code",
   "execution_count": null,
   "metadata": {},
   "outputs": [],
   "source": [
    "imp.reload(video);"
   ]
  },
  {
   "cell_type": "code",
   "execution_count": null,
   "metadata": {},
   "outputs": [],
   "source": [
    "pd.set_option('display.max_colwidth', -1)"
   ]
  },
  {
   "cell_type": "markdown",
   "metadata": {},
   "source": [
    "# Define Pravega stream parameters"
   ]
  },
  {
   "cell_type": "code",
   "execution_count": null,
   "metadata": {},
   "outputs": [],
   "source": [
    "#gateway = 'pravega-grpc-gateway:80'\n",
    "# gateway = '10.243.37.107:80'\n",
    "gateway = 'hop-claudio-ubuntu18-desktop.solarch.lab.emc.com:54672'\n",
    "scope = 'examples'\n",
    "stream = 'video1'"
   ]
  },
  {
   "cell_type": "markdown",
   "metadata": {},
   "source": [
    "# Initialize connection to Pravega GRPC Gateway"
   ]
  },
  {
   "cell_type": "code",
   "execution_count": null,
   "metadata": {},
   "outputs": [],
   "source": [
    "pravega_channel = grpc.insecure_channel(gateway)\n",
    "pravega_client = pravega.grpc.PravegaGatewayStub(pravega_channel)\n",
    "unindexed_stream = UnindexedStream(pravega_client, scope, stream)"
   ]
  },
  {
   "cell_type": "markdown",
   "metadata": {},
   "source": [
    "# Get head and tail stream cuts"
   ]
  },
  {
   "cell_type": "code",
   "execution_count": null,
   "metadata": {},
   "outputs": [],
   "source": [
    "stream_info = unindexed_stream.get_stream_info()\n",
    "stream_info"
   ]
  },
  {
   "cell_type": "code",
   "execution_count": null,
   "metadata": {},
   "outputs": [],
   "source": [
    "stream_size_MB = (stream_info.tail_stream_cut.cut[0] - stream_info.head_stream_cut.cut[0]) * 1e-6\n",
    "stream_size_MB"
   ]
  },
  {
   "cell_type": "markdown",
   "metadata": {},
   "source": [
    "# Play video stream from the earliest time and stop at current time"
   ]
  },
  {
   "cell_type": "code",
   "execution_count": null,
   "metadata": {},
   "outputs": [],
   "source": [
    "from_stream_cut = stream_info.head_stream_cut\n",
    "to_stream_cut = stream_info.tail_stream_cut"
   ]
  },
  {
   "cell_type": "code",
   "execution_count": null,
   "metadata": {},
   "outputs": [],
   "source": [
    "unindexed_stream.play_video(from_stream_cut, to_stream_cut)"
   ]
  },
  {
   "cell_type": "markdown",
   "metadata": {},
   "source": [
    "# Play video stream from the current time (do not stop)"
   ]
  },
  {
   "cell_type": "code",
   "execution_count": null,
   "metadata": {},
   "outputs": [],
   "source": [
    "from_stream_cut = stream_info.tail_stream_cut\n",
    "to_stream_cut = None"
   ]
  },
  {
   "cell_type": "code",
   "execution_count": null,
   "metadata": {},
   "outputs": [],
   "source": [
    "unindexed_stream.play_video(from_stream_cut, to_stream_cut)"
   ]
  },
  {
   "cell_type": "code",
   "execution_count": null,
   "metadata": {},
   "outputs": [],
   "source": []
  }
 ],
 "metadata": {
  "kernelspec": {
   "display_name": "Python 3",
   "language": "python",
   "name": "python3"
  },
  "language_info": {
   "codemirror_mode": {
    "name": "ipython",
    "version": 3
   },
   "file_extension": ".py",
   "mimetype": "text/x-python",
   "name": "python",
   "nbconvert_exporter": "python",
   "pygments_lexer": "ipython3",
   "version": "3.7.3"
  }
 },
 "nbformat": 4,
 "nbformat_minor": 4
}
