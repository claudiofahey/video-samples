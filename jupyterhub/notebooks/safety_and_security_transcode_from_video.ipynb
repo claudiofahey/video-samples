{
 "cells": [
  {
   "cell_type": "code",
   "execution_count": null,
   "metadata": {},
   "outputs": [],
   "source": [
    "import cv2\n",
    "import glob\n",
    "import itertools\n",
    "import os\n",
    "from pathlib import Path"
   ]
  },
  {
   "cell_type": "code",
   "execution_count": null,
   "metadata": {},
   "outputs": [],
   "source": [
    "input_filespecs = [\n",
    "    '../../data/*.mpg',\n",
    "#     '../../data/virat/*/*.mpg',\n",
    "#     '../../data/virat/*/*.mp4',\n",
    "]\n",
    "#size = (2048, 1080)  # 2K\n",
    "size = (1280, 720) # 720p\n",
    "#size = None\n",
    "fps = 15"
   ]
  },
  {
   "cell_type": "code",
   "execution_count": null,
   "metadata": {},
   "outputs": [],
   "source": [
    "def transcode(input_filename, quality=50, skip_if_exists=True, size=None, fps=None):\n",
    "    output_dir = Path(input_filename).with_suffix('')\n",
    "    print(f'{input_filename} -> {output_dir}')\n",
    "    if skip_if_exists and output_dir.exists():\n",
    "        print('Output directory already exists. Skipping.')\n",
    "        return\n",
    "    vidcap = cv2.VideoCapture(input_filename)\n",
    "    output_dir.mkdir(exist_ok=True)\n",
    "    frame_number = 0\n",
    "    while True:\n",
    "        success, image = vidcap.read()\n",
    "        if not success:\n",
    "            break\n",
    "        drop = False\n",
    "        if fps is not None:\n",
    "            input_ms = vidcap.get(cv2.CAP_PROP_POS_MSEC)\n",
    "            output_ms = frame_number * 1000.0 / fps\n",
    "            drop = input_ms < output_ms\n",
    "        if not drop:\n",
    "            if size:\n",
    "                image = cv2.resize(image, size, interpolation=cv2.INTER_AREA)\n",
    "            output_filename = output_dir / ('%08d.jpg' % frame_number)\n",
    "            print(f'{output_filename}', end='\\r')\n",
    "            cv2.imwrite(str(output_filename), image, [int(cv2.IMWRITE_JPEG_QUALITY), quality])\n",
    "            frame_number += 1\n",
    "    print('')"
   ]
  },
  {
   "cell_type": "code",
   "execution_count": null,
   "metadata": {},
   "outputs": [],
   "source": [
    "%%time\n",
    "for input_filespec in input_filespecs:\n",
    "    for input_filename in sorted(glob.glob(input_filespec)):\n",
    "        transcode(input_filename, skip_if_exists=True, size=size, fps=fps)"
   ]
  },
  {
   "cell_type": "code",
   "execution_count": null,
   "metadata": {},
   "outputs": [],
   "source": []
  }
 ],
 "metadata": {
  "kernelspec": {
   "display_name": "Python 3",
   "language": "python",
   "name": "python3"
  },
  "language_info": {
   "codemirror_mode": {
    "name": "ipython",
    "version": 3
   },
   "file_extension": ".py",
   "mimetype": "text/x-python",
   "name": "python",
   "nbconvert_exporter": "python",
   "pygments_lexer": "ipython3",
   "version": "3.7.6"
  }
 },
 "nbformat": 4,
 "nbformat_minor": 4
}
