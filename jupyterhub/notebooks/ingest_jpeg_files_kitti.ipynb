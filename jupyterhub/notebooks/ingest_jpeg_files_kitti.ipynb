{
 "cells": [
  {
   "cell_type": "markdown",
   "metadata": {},
   "source": [
    "---\n",
    "# Demo Use Case - Ingest Live Video Streams (Part 1)\n",
    "\n",
    "A data scientist is part of a team developing an advanced driver-assistance system (ADAS).\n",
    "They continuously collect video, lidar, and other sensor data from their fleet of test vehicles.\n",
    "The data scientist wants to test a new object detection model on video collected today.\n",
    "\n",
    "The purpose of this Jupyter notebook is to simulate the ingestion of real-time video into Streaming Data Platform (SDP).\n",
    "\n",
    "To avoid the need for a set of live cameras for this demo, we play back video from a series of PNG files on disk\n",
    "and write each video frame to SDP.\n",
    "These videos are part of the the [KITTI Vision Benchmark Suite](http://www.cvlibs.net/datasets/kitti/raw_data.php).\n",
    "\n",
    "- We simulate up to 8 simultaneous cameras from different vehicles.\n",
    "- Each video frame is 1242 x 374 pixels, RGB color, PNG format.\n",
    "- PNG image sizes average 821 KB with the largest at 964 KB.\n",
    "- Each camera records at 0.5 frames per second.\n",
    "- The total ingest rate is 4.3 MB/sec.\n",
    "\n",
    "---"
   ]
  },
  {
   "cell_type": "markdown",
   "metadata": {},
   "source": [
    "### Prerequisites\n",
    "\n",
    "1. [install_dependencies.ipynb](install_dependencies.ipynb).\n",
    "2. [download_kitti.ipynb](download_kitti.ipynb)."
   ]
  },
  {
   "cell_type": "markdown",
   "metadata": {},
   "source": [
    "### How to use this Notebook\n",
    "1. Click *Kernel* -> *Restart Kernel and Run All Cells*."
   ]
  },
  {
   "cell_type": "markdown",
   "metadata": {},
   "source": [
    "### Import dependencies"
   ]
  },
  {
   "cell_type": "code",
   "execution_count": null,
   "metadata": {},
   "outputs": [],
   "source": [
    "%load_ext autoreload\n",
    "%autoreload 2\n",
    "import grpc\n",
    "import imp\n",
    "import pravega.grpc_gateway as pravega\n",
    "import pravega.video as video\n",
    "from pravega.video import UnindexedStream, OutputStream, opencv_image_to_mpl\n",
    "import os"
   ]
  },
  {
   "cell_type": "markdown",
   "metadata": {},
   "source": [
    "### Define Pravega stream parameters"
   ]
  },
  {
   "cell_type": "code",
   "execution_count": 3,
   "metadata": {},
   "outputs": [],
   "source": [
    "#gateway = os.environ['PRAVEGA_GRPC_GATEWAY_ADDRESS']\n",
    "#gateway = '10.246.27.131:54672'\n",
    "gateway = 'pravega-grpc-gateway.examples.frightful-four.eaglemonk.intranet.nautilus-platform-dev.com:80'\n",
    "scope = 'examples'\n",
    "#stream = 'object-detector-input-video'\n",
    "stream = 'kitti-1'"
   ]
  },
  {
   "cell_type": "markdown",
   "metadata": {},
   "source": [
    "### Initialize connection to Pravega GRPC Gateway"
   ]
  },
  {
   "cell_type": "code",
   "execution_count": 4,
   "metadata": {},
   "outputs": [],
   "source": [
    "pravega_channel = grpc.insecure_channel(gateway)\n",
    "pravega_client = pravega.grpc.PravegaGatewayStub(pravega_channel)"
   ]
  },
  {
   "cell_type": "code",
   "execution_count": 5,
   "metadata": {},
   "outputs": [],
   "source": [
    "#pravega_client.CreateScope(pravega.pb.CreateScopeRequest(scope=scope))"
   ]
  },
  {
   "cell_type": "markdown",
   "metadata": {},
   "source": [
    "### Create Pravega stream"
   ]
  },
  {
   "cell_type": "code",
   "execution_count": 6,
   "metadata": {},
   "outputs": [
    {
     "data": {
      "text/plain": []
     },
     "execution_count": 6,
     "metadata": {},
     "output_type": "execute_result"
    }
   ],
   "source": [
    "output_stream = OutputStream(pravega_client, scope, stream)\n",
    "#output_stream.delete_stream()\n",
    "output_stream.create_stream()"
   ]
  },
  {
   "cell_type": "code",
   "execution_count": 7,
   "metadata": {},
   "outputs": [],
   "source": [
    "#output_stream.truncate_stream()"
   ]
  },
  {
   "cell_type": "markdown",
   "metadata": {},
   "source": [
    "### Ingest JPEG images from files (multiple cameras)"
   ]
  },
  {
   "cell_type": "code",
   "execution_count": 10,
   "metadata": {},
   "outputs": [],
   "source": [
    "prefix = '../../data/kitti/'\n",
    "camera_filespecs = [\n",
    "    prefix + '2011_09_26/2011_09_26_drive_0005_sync/image_02/data/*.jpg',\n",
    "    prefix + '2011_09_26/2011_09_26_drive_0009_sync/image_02/data/*.jpg',\n",
    "#     prefix + '2011_09_26/2011_09_26_drive_0011_sync/image_02/data/*.jpg',\n",
    "#     prefix + '2011_09_26/2011_09_26_drive_0051_sync/image_02/data/*.jpg',\n",
    "#     '../../../kitti/2011_09_26/2011_09_26_drive_0009_sync/image_02/data/*.png',\n",
    "#     '../../../kitti/2011_09_26/2011_09_26_drive_0011_sync/image_02/data/*.png',\n",
    "#     '../../../kitti/2011_09_26/2011_09_26_drive_0014_sync/image_02/data/*.png',\n",
    "#     '../../../kitti/2011_09_26/2011_09_26_drive_0051_sync/image_02/data/*.png',\n",
    "#     '../../../kitti/2011_09_26/2011_09_26_drive_0059_sync/image_02/data/*.png',\n",
    "#     '../../../kitti/2011_09_26/2011_09_26_drive_0084_sync/image_02/data/*.png',\n",
    "#     '../../../kitti/2011_09_29/2011_09_29_drive_0071_sync/image_02/data/*.png',\n",
    "]\n",
    "fps = 10"
   ]
  },
  {
   "cell_type": "code",
   "execution_count": 23,
   "metadata": {
    "jupyter": {
     "source_hidden": true
    }
   },
   "outputs": [],
   "source": [
    "# imp.reload(video);\n",
    "# import pravega.video as video\n",
    "# from pravega.video import UnindexedStream, OutputStream, IndexedStream, opencv_image_to_mpl, VideoPlayer, ImageFileSequenceLoader\n",
    "# imp.reload(video);"
   ]
  },
  {
   "cell_type": "code",
   "execution_count": 24,
   "metadata": {},
   "outputs": [],
   "source": [
    "loader = ImageFileSequenceLoader(scope, stream, camera_filespecs, fps)\n",
    "events_to_write = loader.event_generator()\n",
    "output_stream.write_events(events_to_write)"
   ]
  }
 ],
 "metadata": {
  "kernelspec": {
   "display_name": "Python 3",
   "language": "python",
   "name": "python3"
  },
  "language_info": {
   "codemirror_mode": {
    "name": "ipython",
    "version": 3
   },
   "file_extension": ".py",
   "mimetype": "text/x-python",
   "name": "python",
   "nbconvert_exporter": "python",
   "pygments_lexer": "ipython3",
   "version": "3.7.6"
  }
 },
 "nbformat": 4,
 "nbformat_minor": 4
}
