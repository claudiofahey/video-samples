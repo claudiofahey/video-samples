{
 "cells": [
  {
   "cell_type": "code",
   "execution_count": null,
   "metadata": {},
   "outputs": [],
   "source": [
    "import io\n",
    "import grpc\n",
    "import os\n",
    "import json\n",
    "import time\n",
    "import pravega.grpc_gateway as pravega"
   ]
  },
  {
   "cell_type": "code",
   "execution_count": null,
   "metadata": {},
   "outputs": [],
   "source": [
    "gateway = '10.246.27.131:54672'\n",
    "scope = 'examples'\n",
    "stream = 'memory-eater-in'"
   ]
  },
  {
   "cell_type": "code",
   "execution_count": null,
   "metadata": {},
   "outputs": [],
   "source": [
    "pravega_channel = grpc.insecure_channel(gateway)\n",
    "pravega_client = pravega.grpc.PravegaGatewayStub(pravega_channel)"
   ]
  },
  {
   "cell_type": "code",
   "execution_count": null,
   "metadata": {},
   "outputs": [],
   "source": [
    "pravega_client.DeleteStream(pravega.pb.DeleteStreamRequest(scope=scope, stream=stream))"
   ]
  },
  {
   "cell_type": "code",
   "execution_count": null,
   "metadata": {},
   "outputs": [],
   "source": [
    "pravega_client.CreateStream(pravega.pb.DeleteStreamRequest(scope=scope, stream=stream))"
   ]
  },
  {
   "cell_type": "code",
   "execution_count": null,
   "metadata": {},
   "outputs": [],
   "source": [
    "#list(pravega_client.ListStreams(pravega.pb.ListStreamsRequest(scope=scope)))"
   ]
  },
  {
   "cell_type": "code",
   "execution_count": null,
   "metadata": {},
   "outputs": [],
   "source": [
    "event = json.dumps(dict(size=int(.5*1024**3), timestamp=int(time.time()*1000))).encode('utf-8')\n",
    "pravega_client.WriteEvents(iter([pravega.pb.WriteEventsRequest(scope=scope, stream=stream, event=event)]))"
   ]
  },
  {
   "cell_type": "code",
   "execution_count": null,
   "metadata": {},
   "outputs": [],
   "source": [
    "stream_info = pravega_client.GetStreamInfo(pravega.pb.GetStreamInfoRequest(\n",
    "            scope=scope,\n",
    "            stream=stream,\n",
    "        ))\n",
    "#stream_info"
   ]
  },
  {
   "cell_type": "code",
   "execution_count": null,
   "metadata": {},
   "outputs": [],
   "source": [
    "pravega_client.TruncateStream(pravega.pb.TruncateStreamRequest(scope=scope, stream=stream, stream_cut=stream_info.tail_stream_cut))"
   ]
  },
  {
   "cell_type": "code",
   "execution_count": null,
   "metadata": {},
   "outputs": [],
   "source": [
    "list(pravega_client.ReadEvents(pravega.pb.ReadEventsRequest(scope=scope, stream=stream, from_stream_cut=None, to_stream_cut=stream_info.tail_stream_cut)))"
   ]
  },
  {
   "cell_type": "code",
   "execution_count": null,
   "metadata": {},
   "outputs": [],
   "source": []
  },
  {
   "cell_type": "code",
   "execution_count": null,
   "metadata": {},
   "outputs": [],
   "source": []
  }
 ],
 "metadata": {
  "kernelspec": {
   "display_name": "Python 3",
   "language": "python",
   "name": "python3"
  },
  "language_info": {
   "codemirror_mode": {
    "name": "ipython",
    "version": 3
   },
   "file_extension": ".py",
   "mimetype": "text/x-python",
   "name": "python",
   "nbconvert_exporter": "python",
   "pygments_lexer": "ipython3",
   "version": "3.7.6"
  }
 },
 "nbformat": 4,
 "nbformat_minor": 4
}
