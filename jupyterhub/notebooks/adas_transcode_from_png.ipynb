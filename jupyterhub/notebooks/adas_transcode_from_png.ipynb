{
 "cells": [
  {
   "cell_type": "code",
   "execution_count": null,
   "metadata": {},
   "outputs": [],
   "source": [
    "import cv2\n",
    "import glob\n",
    "import itertools\n",
    "import os\n",
    "from pathlib import Path"
   ]
  },
  {
   "cell_type": "code",
   "execution_count": null,
   "metadata": {},
   "outputs": [],
   "source": [
    "input_filespecs = [\n",
    "    '../../data/kitti/*/*_sync/image_02/data/*.png',\n",
    "]"
   ]
  },
  {
   "cell_type": "code",
   "execution_count": null,
   "metadata": {},
   "outputs": [],
   "source": [
    "def transcode(input_filename, skip_if_exists=True, quality=50):\n",
    "    output_filename = Path(input_filename).with_suffix('.jpg')\n",
    "    if skip_if_exists and output_filename.exists():\n",
    "        return\n",
    "    img = cv2.imread(input_filename, cv2.IMREAD_UNCHANGED)\n",
    "    cv2.imwrite(str(output_filename), img, [int(cv2.IMWRITE_JPEG_QUALITY), quality])\n",
    "    print('%s -> %s; %d -> %d' % (input_filename, output_filename, os.path.getsize(input_filename), os.path.getsize(output_filename)), end='\\r')"
   ]
  },
  {
   "cell_type": "code",
   "execution_count": null,
   "metadata": {},
   "outputs": [],
   "source": [
    "for input_filespec in input_filespecs:\n",
    "    for input_filename in sorted(glob.glob(input_filespec)):\n",
    "        transcode(input_filename)        "
   ]
  },
  {
   "cell_type": "code",
   "execution_count": null,
   "metadata": {},
   "outputs": [],
   "source": []
  }
 ],
 "metadata": {
  "kernelspec": {
   "display_name": "Python 3",
   "language": "python",
   "name": "python3"
  },
  "language_info": {
   "codemirror_mode": {
    "name": "ipython",
    "version": 3
   },
   "file_extension": ".py",
   "mimetype": "text/x-python",
   "name": "python",
   "nbconvert_exporter": "python",
   "pygments_lexer": "ipython3",
   "version": "3.7.6"
  }
 },
 "nbformat": 4,
 "nbformat_minor": 4
}
