{
 "cells": [
  {
   "cell_type": "markdown",
   "metadata": {},
   "source": [
    "---\n",
    "# Demo Use Case - Ingest Live Video Streams (Part 1)\n",
    "\n",
    "A data scientist is part of a team developing an advanced driver-assistance system (ADAS).\n",
    "They continuously collect video, lidar, and other sensor data from their fleet of test vehicles.\n",
    "The data scientist wants to test a new object detection model on video collected today.\n",
    "\n",
    "The purpose of this Jupyter notebook is to simulate the ingestion of real-time video into Streaming Data Platform (SDP).\n",
    "\n",
    "To avoid the need for a set of live cameras for this demo, we play back video from a series of PNG files on disk\n",
    "and write each video frame to SDP.\n",
    "These videos are part of the the [KITTI Vision Benchmark Suite](http://www.cvlibs.net/datasets/kitti/raw_data.php).\n",
    "\n",
    "- We simulate up to 8 simultaneous cameras from different vehicles.\n",
    "- Each video frame is 1242 x 374 pixels, RGB color, PNG format.\n",
    "- PNG image sizes average 821 KB with the largest at 964 KB.\n",
    "- Each camera records at 0.5 frames per second.\n",
    "- The total ingest rate is 4.3 MB/sec.\n",
    "\n",
    "---"
   ]
  },
  {
   "cell_type": "markdown",
   "metadata": {},
   "source": [
    "### Prerequisites\n",
    "\n",
    "1. [install_dependencies.ipynb](install_dependencies.ipynb).\n",
    "2. [download_kitti.ipynb](download_kitti.ipynb)."
   ]
  },
  {
   "cell_type": "markdown",
   "metadata": {},
   "source": [
    "### How to use this Notebook\n",
    "1. Click *Kernel* -> *Restart Kernel and Run All Cells*."
   ]
  },
  {
   "cell_type": "markdown",
   "metadata": {},
   "source": [
    "### Import dependencies"
   ]
  },
  {
   "cell_type": "code",
   "execution_count": null,
   "metadata": {
    "jupyter": {
     "source_hidden": true
    }
   },
   "outputs": [],
   "source": [
    "%load_ext autoreload\n",
    "%autoreload 2\n",
    "\n",
    "import grpc\n",
    "import imp\n",
    "import pravega.grpc_gateway as pravega\n",
    "import pravega.video as video\n",
    "from pravega.video import UnindexedStream, OutputStream, opencv_image_to_mpl\n",
    "import cv2\n",
    "from matplotlib import pyplot as plt\n",
    "import glob\n",
    "import base64\n",
    "import time\n",
    "import json\n",
    "import itertools\n",
    "import os\n",
    "import numpy as np\n",
    "import pandas as pd\n",
    "\n",
    "imp.reload(video);"
   ]
  },
  {
   "cell_type": "markdown",
   "metadata": {},
   "source": [
    "### Define Pravega stream parameters"
   ]
  },
  {
   "cell_type": "code",
   "execution_count": null,
   "metadata": {},
   "outputs": [],
   "source": [
    "#gateway = os.environ['PRAVEGA_GRPC_GATEWAY_ADDRESS']\n",
    "#gateway = '10.246.27.131:54672'\n",
    "gateway = 'pravega-grpc-gateway.examples.frightful-four.eaglemonk.intranet.nautilus-platform-dev.com:80'\n",
    "scope = 'examples'\n",
    "stream = 'object-detector-input-video'"
   ]
  },
  {
   "cell_type": "markdown",
   "metadata": {},
   "source": [
    "### Initialize connection to Pravega GRPC Gateway"
   ]
  },
  {
   "cell_type": "code",
   "execution_count": null,
   "metadata": {},
   "outputs": [],
   "source": [
    "pravega_channel = grpc.insecure_channel(gateway)\n",
    "pravega_client = pravega.grpc.PravegaGatewayStub(pravega_channel)"
   ]
  },
  {
   "cell_type": "code",
   "execution_count": null,
   "metadata": {},
   "outputs": [],
   "source": [
    "#pravega_client.CreateScope(pravega.pb.CreateScopeRequest(scope=scope))"
   ]
  },
  {
   "cell_type": "markdown",
   "metadata": {},
   "source": [
    "### Create Pravega stream"
   ]
  },
  {
   "cell_type": "code",
   "execution_count": null,
   "metadata": {},
   "outputs": [],
   "source": [
    "output_stream = OutputStream(pravega_client, scope, stream)\n",
    "# output_stream.delete_stream()\n",
    "output_stream.create_stream()"
   ]
  },
  {
   "cell_type": "code",
   "execution_count": null,
   "metadata": {},
   "outputs": [],
   "source": [
    "#output_stream.truncate_stream()"
   ]
  },
  {
   "cell_type": "markdown",
   "metadata": {},
   "source": [
    "### Ingest Kitti data (multiple cameras)"
   ]
  },
  {
   "cell_type": "code",
   "execution_count": null,
   "metadata": {},
   "outputs": [],
   "source": [
    "prefix = '../../data/kitti/'\n",
    "camera_filespecs = [\n",
    "    prefix + '2011_09_26/2011_09_26_drive_0005_sync/image_02/data/*.jpg',\n",
    "    prefix + '2011_09_26/2011_09_26_drive_0009_sync/image_02/data/*.jpg',\n",
    "    prefix + '2011_09_26/2011_09_26_drive_0011_sync/image_02/data/*.jpg',\n",
    "    prefix + '2011_09_26/2011_09_26_drive_0051_sync/image_02/data/*.jpg',\n",
    "#     '../../../kitti/2011_09_26/2011_09_26_drive_0009_sync/image_02/data/*.png',\n",
    "#     '../../../kitti/2011_09_26/2011_09_26_drive_0011_sync/image_02/data/*.png',\n",
    "#     '../../../kitti/2011_09_26/2011_09_26_drive_0014_sync/image_02/data/*.png',\n",
    "#     '../../../kitti/2011_09_26/2011_09_26_drive_0051_sync/image_02/data/*.png',\n",
    "#     '../../../kitti/2011_09_26/2011_09_26_drive_0059_sync/image_02/data/*.png',\n",
    "#     '../../../kitti/2011_09_26/2011_09_26_drive_0084_sync/image_02/data/*.png',\n",
    "#     '../../../kitti/2011_09_29/2011_09_29_drive_0071_sync/image_02/data/*.png',\n",
    "]"
   ]
  },
  {
   "cell_type": "code",
   "execution_count": null,
   "metadata": {},
   "outputs": [],
   "source": [
    "camera_files = [sorted(glob.glob(f)) for f in camera_filespecs]\n",
    "images_per_camera = [len(f) for f in camera_files]\n",
    "images_per_camera"
   ]
  },
  {
   "cell_type": "code",
   "execution_count": null,
   "metadata": {},
   "outputs": [],
   "source": [
    "file_sizes = [os.path.getsize(f) for c in camera_files for f in c]\n",
    "pd.Series(file_sizes).describe()"
   ]
  },
  {
   "cell_type": "code",
   "execution_count": null,
   "metadata": {},
   "outputs": [],
   "source": [
    "frame_iterators = [itertools.cycle(f) for f in camera_files]"
   ]
  },
  {
   "cell_type": "code",
   "execution_count": null,
   "metadata": {},
   "outputs": [],
   "source": [
    "def get_image_data(filename, size=None):\n",
    "    if size is None:\n",
    "        with open(filename, 'rb') as f:\n",
    "            png_bytes = f.read()\n",
    "    else:    \n",
    "        img = cv2.imread(filename, cv2.IMREAD_UNCHANGED)\n",
    "        img = cv2.resize(img, size, interpolation=cv2.INTER_NEAREST)\n",
    "        success, png_array = cv2.imencode('.png', img)\n",
    "        png_bytes = png_array.tobytes()\n",
    "    return png_bytes"
   ]
  },
  {
   "cell_type": "code",
   "execution_count": null,
   "metadata": {},
   "outputs": [],
   "source": [
    "# Define frames per second per camera\n",
    "fps = 10\n",
    "fps"
   ]
  },
  {
   "cell_type": "code",
   "execution_count": null,
   "metadata": {},
   "outputs": [],
   "source": [
    "def video_frame_write_generator(fps=fps):\n",
    "    frame_number = 0\n",
    "    t0_ms = time.time() * 1000.0\n",
    "    while True:\n",
    "        timestamp = int(frame_number / (fps / 1000.0) + t0_ms)\n",
    "        sleep_sec = timestamp / 1000.0 - time.time()\n",
    "        if sleep_sec > 0.0:\n",
    "            time.sleep(sleep_sec)\n",
    "        elif sleep_sec < -5.0:\n",
    "            logging.warn(f\"can't keep up with real-time. sleep_sec={sleep_sec}\")\n",
    "        for camera, frame_iterator in enumerate(frame_iterators):\n",
    "            filename = next(frame_iterator)\n",
    "            png_bytes = get_image_data(filename)\n",
    "            event_dict = dict(\n",
    "                camera=camera,\n",
    "                data=base64.b64encode(png_bytes).decode(encoding='UTF-8'),\n",
    "                frameNumber=frame_number,\n",
    "                ssrc=0,\n",
    "                timestamp=timestamp,\n",
    "                )\n",
    "            event_json = json.dumps(event_dict)\n",
    "            event_bytes = event_json.encode(encoding='UTF-8')\n",
    "            event_to_write = pravega.pb.WriteEventsRequest(\n",
    "                scope=scope,\n",
    "                stream=stream,\n",
    "                event=event_bytes,\n",
    "                routing_key=str(camera),\n",
    "            )\n",
    "            yield event_to_write\n",
    "        frame_number += 1"
   ]
  },
  {
   "cell_type": "code",
   "execution_count": null,
   "metadata": {},
   "outputs": [],
   "source": [
    "events_to_write = video_frame_write_generator()\n",
    "output_stream.write_events(events_to_write)"
   ]
  },
  {
   "cell_type": "code",
   "execution_count": null,
   "metadata": {},
   "outputs": [],
   "source": []
  }
 ],
 "metadata": {
  "kernelspec": {
   "display_name": "Python 3",
   "language": "python",
   "name": "python3"
  },
  "language_info": {
   "codemirror_mode": {
    "name": "ipython",
    "version": 3
   },
   "file_extension": ".py",
   "mimetype": "text/x-python",
   "name": "python",
   "nbconvert_exporter": "python",
   "pygments_lexer": "ipython3",
   "version": "3.7.6"
  }
 },
 "nbformat": 4,
 "nbformat_minor": 4
}
