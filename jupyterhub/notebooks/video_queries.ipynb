{
 "cells": [
  {
   "cell_type": "markdown",
   "metadata": {},
   "source": [
    "---\n",
    "# Demo Use Case - Queries and Analytics on Video (Part 3)\n",
    "\n",
    "The data scientist now wants to focus on video frames in which people were detected.\n",
    "\n",
    "The metadata for the video stream produced by the object detection job is loaded into a Pandas dataframe.\n",
    "This dataframe is used to allow the data scientist to view any image stored in SDP.\n",
    "They can also filter, sort, and aggregate the dataframe using methods that data scientists are familar with.\n",
    "\n",
    "---"
   ]
  },
  {
   "cell_type": "markdown",
   "metadata": {},
   "source": [
    "### Install dependencies\n",
    "\n",
    "See [install_dependencies.ipynb](install_dependencies.ipynb)."
   ]
  },
  {
   "cell_type": "markdown",
   "metadata": {},
   "source": [
    "### How to use this Notebook\n",
    "1. Click *Kernel* -> *Restart Kernel and Run All Cells*."
   ]
  },
  {
   "cell_type": "markdown",
   "metadata": {},
   "source": [
    "### Import dependencies"
   ]
  },
  {
   "cell_type": "code",
   "execution_count": 1,
   "metadata": {},
   "outputs": [],
   "source": [
    "%load_ext autoreload\n",
    "%autoreload 2\n",
    "\n",
    "from matplotlib import pyplot as plt\n",
    "import IPython\n",
    "import cv2\n",
    "import itertools\n",
    "import numpy as np\n",
    "import pandas as pd\n",
    "import json\n",
    "import base64\n",
    "import datetime\n",
    "import time\n",
    "from ipywidgets import interact, interactive, fixed, interact_manual\n",
    "from IPython.display import display\n",
    "import ipywidgets as widgets\n",
    "from pathlib import Path\n",
    "import grpc\n",
    "import imp\n",
    "import pravega.grpc_gateway as pravega\n",
    "import pravega.video as video\n",
    "from pravega.video import UnindexedStream, OutputStream, IndexedStream, opencv_image_to_mpl, VideoPlayer\n",
    "from matplotlib import pyplot as plt\n",
    "from copy import copy\n",
    "import os\n",
    "\n",
    "imp.reload(video);"
   ]
  },
  {
   "cell_type": "markdown",
   "metadata": {},
   "source": [
    "### Define Pravega stream parameters"
   ]
  },
  {
   "cell_type": "code",
   "execution_count": 2,
   "metadata": {},
   "outputs": [],
   "source": [
    "#gateway = os.environ['PRAVEGA_GRPC_GATEWAY_ADDRESS']\n",
    "#gateway = '10.246.27.131:54672'\n",
    "gateway = 'pravega-grpc-gateway.examples.frightful-four.eaglemonk.intranet.nautilus-platform-dev.com:80'\n",
    "scope = 'examples'\n",
    "#stream = 'object-detector-input-video'\n",
    "#stream = 'object-detector-output-video'\n",
    "stream = 'virat-1'"
   ]
  },
  {
   "cell_type": "markdown",
   "metadata": {},
   "source": [
    "### Initialize connection to Pravega GRPC Gateway"
   ]
  },
  {
   "cell_type": "code",
   "execution_count": 3,
   "metadata": {},
   "outputs": [],
   "source": [
    "pravega_channel = grpc.insecure_channel(gateway, options=[\n",
    "        ('grpc.max_receive_message_length', 9*1024*1024),\n",
    "    ])\n",
    "pravega_client = pravega.grpc.PravegaGatewayStub(pravega_channel)"
   ]
  },
  {
   "cell_type": "markdown",
   "metadata": {},
   "source": [
    "### Load timestamp index\n",
    "This is an index from timestamp to begin stream cut, end stream cut, and event pointer.\n",
    "This index is maintained by the job in [index_builder.ipynb](index_builder.ipynb).\n",
    "The video player uses the event pointer to fetch an individual frame. It uses the end stream cut to play from a particular frame."
   ]
  },
  {
   "cell_type": "code",
   "execution_count": 4,
   "metadata": {},
   "outputs": [],
   "source": [
    "indexed_stream = IndexedStream(pravega_client, scope, stream)"
   ]
  },
  {
   "cell_type": "code",
   "execution_count": 5,
   "metadata": {},
   "outputs": [
    {
     "data": {
      "text/plain": [
       "0.424325"
      ]
     },
     "execution_count": 5,
     "metadata": {},
     "output_type": "execute_result"
    }
   ],
   "source": [
    "stream_info = indexed_stream.index_stream.get_stream_info()\n",
    "index_size_MB = (list(stream_info.tail_stream_cut.cut.values())[0] - list(stream_info.head_stream_cut.cut.values())[0]) * 1e-6\n",
    "index_size_MB"
   ]
  },
  {
   "cell_type": "markdown",
   "metadata": {},
   "source": [
    "stream_info = indexed_stream.get_stream_info()\n",
    "stream_size_MB = (list(stream_info.tail_stream_cut.cut.values())[0] - list(stream_info.head_stream_cut.cut.values())[0]) * 1e-6\n",
    "stream_size_MB"
   ]
  },
  {
   "cell_type": "code",
   "execution_count": 6,
   "metadata": {},
   "outputs": [
    {
     "name": "stdout",
     "output_type": "stream",
     "text": [
      "load_index: Reading index stream virat-1-index\n",
      "CPU times: user 270 ms, sys: 86.8 ms, total: 357 ms\n",
      "Wall time: 2.2 s\n"
     ]
    }
   ],
   "source": [
    "%%time\n",
    "indexed_stream.load_index()"
   ]
  },
  {
   "cell_type": "markdown",
   "metadata": {},
   "source": [
    "#### Show number of records in the index, first and last index records"
   ]
  },
  {
   "cell_type": "code",
   "execution_count": 7,
   "metadata": {},
   "outputs": [
    {
     "data": {
      "text/plain": [
       "1249"
      ]
     },
     "execution_count": 7,
     "metadata": {},
     "output_type": "execute_result"
    }
   ],
   "source": [
    "len(indexed_stream.index_df)"
   ]
  },
  {
   "cell_type": "code",
   "execution_count": 8,
   "metadata": {},
   "outputs": [
    {
     "data": {
      "text/html": [
       "<div>\n",
       "<style scoped>\n",
       "    .dataframe tbody tr th:only-of-type {\n",
       "        vertical-align: middle;\n",
       "    }\n",
       "\n",
       "    .dataframe tbody tr th {\n",
       "        vertical-align: top;\n",
       "    }\n",
       "\n",
       "    .dataframe thead th {\n",
       "        text-align: right;\n",
       "    }\n",
       "</style>\n",
       "<table border=\"1\" class=\"dataframe\">\n",
       "  <thead>\n",
       "    <tr style=\"text-align: right;\">\n",
       "      <th>timestamp</th>\n",
       "      <th>2020-04-08 23:49:06.738000+00:00</th>\n",
       "      <th>2020-04-08 23:49:17.138000+00:00</th>\n",
       "    </tr>\n",
       "  </thead>\n",
       "  <tbody>\n",
       "    <tr>\n",
       "      <th>camera</th>\n",
       "      <td>0</td>\n",
       "      <td>0</td>\n",
       "    </tr>\n",
       "    <tr>\n",
       "      <th>frameNumber</th>\n",
       "      <td>0</td>\n",
       "      <td>312</td>\n",
       "    </tr>\n",
       "    <tr>\n",
       "      <th>ssrc</th>\n",
       "      <td>0</td>\n",
       "      <td>0</td>\n",
       "    </tr>\n",
       "    <tr>\n",
       "      <th>to_stream_cut</th>\n",
       "      <td>H4sIAAAAAAAAADOwSq1IzC3ISS3WL8ssSizRNbQyAEJDQy...</td>\n",
       "      <td>H4sIAAAAAAAAADOwSq1IzC3ISS3WL8ssSizRNbQyAEJLcw...</td>\n",
       "    </tr>\n",
       "    <tr>\n",
       "      <th>event_pointer</th>\n",
       "      <td>AAABAAAAACIAG2V4YW1wbGVzL3ZpcmF0LTEvMC4jZXBvY2...</td>\n",
       "      <td>AAABAAAAACUAG2V4YW1wbGVzL3ZpcmF0LTEvMC4jZXBvY2...</td>\n",
       "    </tr>\n",
       "    <tr>\n",
       "      <th>from_stream_cut</th>\n",
       "      <td>H4sIAAAAAAAAADOwSq1IzC3ISS3WL8ssSizRNbQyAEEA55...</td>\n",
       "      <td>H4sIAAAAAAAAADOwSq1IzC3ISS3WL8ssSizRNbQyAEJLM0...</td>\n",
       "    </tr>\n",
       "  </tbody>\n",
       "</table>\n",
       "</div>"
      ],
      "text/plain": [
       "timestamp                         2020-04-08 23:49:06.738000+00:00  \\\n",
       "camera                                                           0   \n",
       "frameNumber                                                      0   \n",
       "ssrc                                                             0   \n",
       "to_stream_cut    H4sIAAAAAAAAADOwSq1IzC3ISS3WL8ssSizRNbQyAEJDQy...   \n",
       "event_pointer    AAABAAAAACIAG2V4YW1wbGVzL3ZpcmF0LTEvMC4jZXBvY2...   \n",
       "from_stream_cut  H4sIAAAAAAAAADOwSq1IzC3ISS3WL8ssSizRNbQyAEEA55...   \n",
       "\n",
       "timestamp                         2020-04-08 23:49:17.138000+00:00  \n",
       "camera                                                           0  \n",
       "frameNumber                                                    312  \n",
       "ssrc                                                             0  \n",
       "to_stream_cut    H4sIAAAAAAAAADOwSq1IzC3ISS3WL8ssSizRNbQyAEJLcw...  \n",
       "event_pointer    AAABAAAAACUAG2V4YW1wbGVzL3ZpcmF0LTEvMC4jZXBvY2...  \n",
       "from_stream_cut  H4sIAAAAAAAAADOwSq1IzC3ISS3WL8ssSizRNbQyAEJLM0...  "
      ]
     },
     "execution_count": 8,
     "metadata": {},
     "output_type": "execute_result"
    }
   ],
   "source": [
    "indexed_stream.index_df.iloc[[0,-1]].T"
   ]
  },
  {
   "cell_type": "markdown",
   "metadata": {},
   "source": [
    "#### Clean recognitions"
   ]
  },
  {
   "cell_type": "code",
   "execution_count": 9,
   "metadata": {},
   "outputs": [],
   "source": [
    "# def clean_recognitions(recognitions):\n",
    "#     return ','.join(np.unique([r['title'] for r in recognitions]))\n",
    "#indexed_stream.index_df['recog'] = indexed_stream.index_df.recognitions.apply(clean_recognitions)"
   ]
  },
  {
   "cell_type": "markdown",
   "metadata": {},
   "source": [
    "### Video player with entire stream"
   ]
  },
  {
   "cell_type": "code",
   "execution_count": 16,
   "metadata": {},
   "outputs": [
    {
     "data": {
      "application/vnd.jupyter.widget-view+json": {
       "model_id": "e6e7fabe1a4f4a0ab954c4a48e4f87d3",
       "version_major": 2,
       "version_minor": 0
      },
      "text/plain": [
       "VBox(children=(Button(description='▶', layout=Layout(width='4em'), style=ButtonStyle()), ToggleButton(value=Fa…"
      ]
     },
     "metadata": {},
     "output_type": "display_data"
    }
   ],
   "source": [
    "player = VideoPlayer(stream=indexed_stream)\n",
    "player.interact()"
   ]
  },
  {
   "cell_type": "markdown",
   "metadata": {},
   "source": [
    "### Filtered and sorted player"
   ]
  },
  {
   "cell_type": "code",
   "execution_count": 11,
   "metadata": {},
   "outputs": [
    {
     "data": {
      "text/plain": [
       "0    313\n",
       "3    312\n",
       "2    312\n",
       "1    312\n",
       "Name: camera, dtype: int64"
      ]
     },
     "execution_count": 11,
     "metadata": {},
     "output_type": "execute_result"
    }
   ],
   "source": [
    "indexed_stream.index_df.camera.value_counts()"
   ]
  },
  {
   "cell_type": "code",
   "execution_count": 12,
   "metadata": {},
   "outputs": [],
   "source": [
    "#indexed_stream.index_df.recog.value_counts()"
   ]
  },
  {
   "cell_type": "code",
   "execution_count": 13,
   "metadata": {},
   "outputs": [],
   "source": [
    "#pd.DataFrame(indexed_stream.index_df.groupby(['camera','recog']).size()).unstack().fillna('-')"
   ]
  },
  {
   "cell_type": "code",
   "execution_count": 14,
   "metadata": {},
   "outputs": [
    {
     "data": {
      "text/plain": [
       "44"
      ]
     },
     "execution_count": 14,
     "metadata": {},
     "output_type": "execute_result"
    }
   ],
   "source": [
    "df = indexed_stream.index_df.copy()\n",
    "#df = df[df.camera==0]\n",
    "df = df[df.frameNumber.between(10,20)]\n",
    "#df = df[df.recog!='']\n",
    "#df = df[df.recog.str.contains('person')]\n",
    "#df = df[df.recog.str.contains('boat')]\n",
    "#df = df[df.recog.str.contains('bus,person')]\n",
    "#df = df[df.recog.str.contains('motorbike')]\n",
    "#df = df[df.recog.str.contains('train')]\n",
    "#df = df[df.recog.str.contains('chair')]\n",
    "#df = df[df.recog.str.contains('dog')]\n",
    "#df = df[df.recog.str.contains('sofa')]\n",
    "len(df)"
   ]
  },
  {
   "cell_type": "code",
   "execution_count": 15,
   "metadata": {},
   "outputs": [
    {
     "data": {
      "application/vnd.jupyter.widget-view+json": {
       "model_id": "0697715f049f4a5f9873a7e80bd366b1",
       "version_major": 2,
       "version_minor": 0
      },
      "text/plain": [
       "VBox(children=(Button(description='▶', layout=Layout(width='4em'), style=ButtonStyle()), ToggleButton(value=Fa…"
      ]
     },
     "metadata": {},
     "output_type": "display_data"
    }
   ],
   "source": [
    "filtered_stream = copy(indexed_stream)\n",
    "filtered_stream.index_df = df\n",
    "player = VideoPlayer(stream=filtered_stream)\n",
    "player.interact()"
   ]
  }
 ],
 "metadata": {
  "kernelspec": {
   "display_name": "Python 3",
   "language": "python",
   "name": "python3"
  },
  "language_info": {
   "codemirror_mode": {
    "name": "ipython",
    "version": 3
   },
   "file_extension": ".py",
   "mimetype": "text/x-python",
   "name": "python",
   "nbconvert_exporter": "python",
   "pygments_lexer": "ipython3",
   "version": "3.7.6"
  }
 },
 "nbformat": 4,
 "nbformat_minor": 4
}
