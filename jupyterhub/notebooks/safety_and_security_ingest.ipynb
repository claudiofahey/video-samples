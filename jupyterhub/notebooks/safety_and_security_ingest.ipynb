{
 "cells": [
  {
   "cell_type": "markdown",
   "metadata": {},
   "source": [
    "---\n",
    "# Safety and Security - Ingest Video Streams\n",
    "\n",
    "To avoid the need for a set of live cameras for this demo, we play back video from a series of JPEG files on disk\n",
    "and write each video frame to SDP.\n",
    "\n",
    "---"
   ]
  },
  {
   "cell_type": "markdown",
   "metadata": {},
   "source": [
    "### Prerequisites\n",
    "\n",
    "1. [install_dependencies.ipynb](install_dependencies.ipynb).\n",
    "2. Download video files from the [VIRAT Video Dataset](https://viratdata.org/) and the [MEVA Video Dataset](http://mevadata.org/).\n",
    "3. [transcode_video_to_jpeg.ipynb](transcode_video_to_jpeg.ipynb)."
   ]
  },
  {
   "cell_type": "markdown",
   "metadata": {},
   "source": [
    "### How to use this Notebook\n",
    "1. Click *Kernel* -> *Restart Kernel and Run All Cells*."
   ]
  },
  {
   "cell_type": "markdown",
   "metadata": {},
   "source": [
    "### Import dependencies"
   ]
  },
  {
   "cell_type": "code",
   "execution_count": null,
   "metadata": {},
   "outputs": [],
   "source": [
    "%load_ext autoreload\n",
    "%autoreload 2\n",
    "import grpc\n",
    "import imp\n",
    "import pravega.grpc_gateway as pravega\n",
    "import pravega.video as video\n",
    "from pravega.video import OutputStream, ImageFileSequenceLoader\n",
    "import os"
   ]
  },
  {
   "cell_type": "markdown",
   "metadata": {},
   "source": [
    "### Define Pravega stream parameters"
   ]
  },
  {
   "cell_type": "code",
   "execution_count": null,
   "metadata": {},
   "outputs": [],
   "source": [
    "gateway = os.environ['PRAVEGA_GRPC_GATEWAY_ADDRESS']\n",
    "scope = 'examples'\n",
    "stream = 'safety-and-security-1'"
   ]
  },
  {
   "cell_type": "markdown",
   "metadata": {},
   "source": [
    "### Initialize connection to Pravega GRPC Gateway"
   ]
  },
  {
   "cell_type": "code",
   "execution_count": null,
   "metadata": {},
   "outputs": [],
   "source": [
    "pravega_channel = grpc.insecure_channel(gateway)\n",
    "pravega_client = pravega.grpc.PravegaGatewayStub(pravega_channel)"
   ]
  },
  {
   "cell_type": "code",
   "execution_count": null,
   "metadata": {},
   "outputs": [],
   "source": [
    "#pravega_client.CreateScope(pravega.pb.CreateScopeRequest(scope=scope))"
   ]
  },
  {
   "cell_type": "markdown",
   "metadata": {},
   "source": [
    "### Create Pravega stream"
   ]
  },
  {
   "cell_type": "code",
   "execution_count": null,
   "metadata": {},
   "outputs": [],
   "source": [
    "output_stream = OutputStream(pravega_client, scope, stream)\n",
    "#output_stream.delete_stream()\n",
    "output_stream.create_stream()"
   ]
  },
  {
   "cell_type": "code",
   "execution_count": null,
   "metadata": {},
   "outputs": [],
   "source": [
    "output_stream.truncate_stream()"
   ]
  },
  {
   "cell_type": "markdown",
   "metadata": {},
   "source": [
    "### Ingest JPEG images from files"
   ]
  },
  {
   "cell_type": "code",
   "execution_count": null,
   "metadata": {},
   "outputs": [],
   "source": [
    "data_dir = '../../../data/video/'\n",
    "camera_filespecs = [\n",
    "    data_dir + 'drone/DJI_0023/*.jpg',\n",
    "    data_dir + 'virat/aerial/09152008flight2tape1_10/*.jpg',\n",
    "    data_dir + 'virat/ground/VIRAT_S_000200_01_000226_000268/*.jpg',    \n",
    "    \n",
    "    data_dir + 'virat/ground/VIRAT_S_000201_08_001652_001838/*.jpg',\n",
    "    data_dir + 'drone/DJI_0039/*.jpg',\n",
    "    data_dir + 'meva/uav-drop-01/2018-03-13/17/2018-03-13.17-30-58.17-40-14.uav1/*.jpg',\n",
    "\n",
    "    data_dir + 'virat/aerial/09172008flight1tape1_5/*.jpg',\n",
    "    data_dir + 'virat/aerial/09152008flight2tape3_1/*.jpg',\n",
    "    data_dir + 'virat/aerial/09152008flight2tape1_7/*.jpg',\n",
    "]\n",
    "fps = 10  # drone is 24, virat is 30\n",
    "step = 3"
   ]
  },
  {
   "cell_type": "code",
   "execution_count": null,
   "metadata": {},
   "outputs": [],
   "source": [
    "imp.reload(video);\n",
    "import pravega.video as video\n",
    "from pravega.video import UnindexedStream, OutputStream, IndexedStream, opencv_image_to_mpl, VideoPlayer, ImageFileSequenceLoader\n",
    "imp.reload(video);"
   ]
  },
  {
   "cell_type": "code",
   "execution_count": null,
   "metadata": {},
   "outputs": [],
   "source": [
    "loader = ImageFileSequenceLoader(scope, stream, camera_filespecs, fps)"
   ]
  },
  {
   "cell_type": "code",
   "execution_count": null,
   "metadata": {},
   "outputs": [],
   "source": [
    "events_to_write = loader.event_generator()\n",
    "output_stream.write_events(events_to_write)"
   ]
  },
  {
   "cell_type": "code",
   "execution_count": null,
   "metadata": {},
   "outputs": [],
   "source": []
  }
 ],
 "metadata": {
  "kernelspec": {
   "display_name": "Python 3",
   "language": "python",
   "name": "python3"
  },
  "language_info": {
   "codemirror_mode": {
    "name": "ipython",
    "version": 3
   },
   "file_extension": ".py",
   "mimetype": "text/x-python",
   "name": "python",
   "nbconvert_exporter": "python",
   "pygments_lexer": "ipython3",
   "version": "3.7.6"
  }
 },
 "nbformat": 4,
 "nbformat_minor": 4
}
