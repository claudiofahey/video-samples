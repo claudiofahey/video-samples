{
 "cells": [
  {
   "cell_type": "markdown",
   "metadata": {},
   "source": [
    "---\n",
    "# Safety and Security - Ingest Video Streams\n",
    "\n",
    "To avoid the need for a set of live cameras for this demo, we play back video from a series of JPEG files on disk\n",
    "and write each video frame to SDP.\n",
    "\n",
    "---"
   ]
  },
  {
   "cell_type": "markdown",
   "metadata": {},
   "source": [
    "### Import dependencies"
   ]
  },
  {
   "cell_type": "code",
   "execution_count": null,
   "metadata": {},
   "outputs": [],
   "source": [
    "%load_ext autoreload\n",
    "%autoreload 2\n",
    "import grpc\n",
    "import imp\n",
    "import pravega.grpc_gateway as pravega\n",
    "import pravega.video as video\n",
    "from pravega.video import OutputStream, ImageFileSequenceLoader\n",
    "import os"
   ]
  },
  {
   "cell_type": "markdown",
   "metadata": {},
   "source": [
    "### Define Pravega stream parameters"
   ]
  },
  {
   "cell_type": "code",
   "execution_count": null,
   "metadata": {},
   "outputs": [],
   "source": [
    "gateway = os.environ['PRAVEGA_GRPC_GATEWAY_ADDRESS']\n",
    "scope = 'examples'\n",
    "stream = 'safety-and-security-video'"
   ]
  },
  {
   "cell_type": "markdown",
   "metadata": {},
   "source": [
    "### Initialize connection to Pravega GRPC Gateway"
   ]
  },
  {
   "cell_type": "code",
   "execution_count": null,
   "metadata": {},
   "outputs": [],
   "source": [
    "pravega_channel = grpc.insecure_channel(gateway)\n",
    "pravega_client = pravega.grpc.PravegaGatewayStub(pravega_channel)"
   ]
  },
  {
   "cell_type": "code",
   "execution_count": null,
   "metadata": {},
   "outputs": [],
   "source": [
    "#pravega_client.CreateScope(pravega.pb.CreateScopeRequest(scope=scope))"
   ]
  },
  {
   "cell_type": "markdown",
   "metadata": {},
   "source": [
    "### Create Pravega stream"
   ]
  },
  {
   "cell_type": "code",
   "execution_count": null,
   "metadata": {},
   "outputs": [],
   "source": [
    "output_stream = OutputStream(pravega_client, scope, stream)\n",
    "#output_stream.delete_stream()\n",
    "output_stream.create_stream()\n",
    "output_stream.truncate_stream()"
   ]
  },
  {
   "cell_type": "code",
   "execution_count": null,
   "metadata": {},
   "outputs": [],
   "source": [
    "# Truncate object detector output stream\n",
    "detected_stream = OutputStream(pravega_client, scope, 'multi-video-grid-output')\n",
    "#detected_stream.delete_stream()\n",
    "detected_stream.create_stream(min_num_segments=1)\n",
    "detected_stream.truncate_stream()"
   ]
  },
  {
   "cell_type": "markdown",
   "metadata": {},
   "source": [
    "### Ingest JPEG images from files"
   ]
  },
  {
   "cell_type": "code",
   "execution_count": null,
   "metadata": {},
   "outputs": [],
   "source": [
    "data_dir = '../../data/'\n",
    "camera_filespecs = [\n",
    "    data_dir + 'tollway-system-in-a-multi-lane-expressway-3324160/*.jpg',\n",
    "    data_dir + 'traffic-intersection-4188267/*.jpg',\n",
    "    data_dir + 'aerial-footage-of-vehicular-traffic-of-a-busy-street-intersection-at-night-3048225/*.jpg',\n",
    "    data_dir + 'people-walking-on-the-street-of-a-shopping-center-3283572/*.jpg',\n",
    "#     data_dir + 'a-cargo-truck-maneuvering-turns-in-a-manufacturing-plant-2711276/*.jpg',\n",
    "#     data_dir + 'aerial-view-of-a-freeway-1472012/*.jpg',\n",
    "#     data_dir + 'drone-footage-of-a-city-s-business-district-2835994/*.jpg',\n",
    "#     data_dir + 'drone-footage-of-a-manufacturing-plant-3061260/*.jpg',\n",
    "#     data_dir + 'rail-freight-trains-in-transit-4066355/*.jpg',\n",
    "#     data_dir + 'aerial-view-of-bridge-and-river-2292093/*.jpg',\n",
    "#     data_dir + 'virat/aerial/09152008flight2tape1_10/*.jpg',\n",
    "#     data_dir + 'virat/ground/VIRAT_S_000200_01_000226_000268/*.jpg',\n",
    "#     data_dir + 'virat/ground/VIRAT_S_000201_08_001652_001838/*.jpg',\n",
    "#     data_dir + 'virat/ground/VIRAT_S_000205_03_000860_000922/*.jpg',\n",
    "#     data_dir + 'virat/aerial/09172008flight1tape1_5/*.jpg',\n",
    "#     data_dir + 'virat/aerial/09152008flight2tape3_1/*.jpg',\n",
    "#     data_dir + 'virat/aerial/09152008flight2tape1_7/*.jpg',\n",
    "]\n",
    "input_fps = 15\n",
    "step = 1\n",
    "fps = input_fps / step"
   ]
  },
  {
   "cell_type": "code",
   "execution_count": null,
   "metadata": {},
   "outputs": [],
   "source": [
    "loader = ImageFileSequenceLoader(scope, stream, camera_filespecs, fps, step=step)"
   ]
  },
  {
   "cell_type": "code",
   "execution_count": null,
   "metadata": {},
   "outputs": [],
   "source": [
    "events_to_write = loader.event_generator()\n",
    "output_stream.write_events(events_to_write)"
   ]
  },
  {
   "cell_type": "code",
   "execution_count": null,
   "metadata": {},
   "outputs": [],
   "source": []
  }
 ],
 "metadata": {
  "kernelspec": {
   "display_name": "Python 3",
   "language": "python",
   "name": "python3"
  },
  "language_info": {
   "codemirror_mode": {
    "name": "ipython",
    "version": 3
   },
   "file_extension": ".py",
   "mimetype": "text/x-python",
   "name": "python",
   "nbconvert_exporter": "python",
   "pygments_lexer": "ipython3",
   "version": "3.7.6"
  }
 },
 "nbformat": 4,
 "nbformat_minor": 4
}
